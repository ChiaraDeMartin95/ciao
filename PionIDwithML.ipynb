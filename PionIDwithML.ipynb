{
  "nbformat": 4,
  "nbformat_minor": 0,
  "metadata": {
    "colab": {
      "name": "PionIDwithML.ipynb",
      "provenance": [],
      "authorship_tag": "ABX9TyMHRUrnAhybiCr7LAIoOJ9j",
      "include_colab_link": true
    },
    "kernelspec": {
      "name": "python3",
      "display_name": "Python 3"
    }
  },
  "cells": [
    {
      "cell_type": "markdown",
      "metadata": {
        "id": "view-in-github",
        "colab_type": "text"
      },
      "source": [
        "<a href=\"https://colab.research.google.com/github/ChiaraDeMartin95/ciao/blob/master/PionIDwithML.ipynb\" target=\"_parent\"><img src=\"https://colab.research.google.com/assets/colab-badge.svg\" alt=\"Open In Colab\"/></a>"
      ]
    },
    {
      "cell_type": "code",
      "metadata": {
        "id": "sBGpmAz4tNCW",
        "colab_type": "code",
        "colab": {}
      },
      "source": [
        "# Python ≥3.5 is required\n",
        "import sys\n",
        "assert sys.version_info >= (3, 5)\n",
        "\n",
        "# Scikit-Learn ≥0.20 is required\n",
        "import sklearn\n",
        "assert sklearn.__version__ >= \"0.20\"\n",
        "\n",
        "# Common imports\n",
        "import numpy as np\n",
        "import os\n",
        "\n",
        "# To plot pretty figures\n",
        "%matplotlib inline\n",
        "import matplotlib as mpl\n",
        "import matplotlib.pyplot as plt\n",
        "mpl.rc('axes', labelsize=14)\n",
        "mpl.rc('xtick', labelsize=12)\n",
        "mpl.rc('ytick', labelsize=12)\n",
        "\n",
        "# Where to save the figures\n",
        "PROJECT_ROOT_DIR = \".\"\n",
        "CHAPTER_ID = \"PionID\"\n",
        "IMAGES_PATH = os.path.join(PROJECT_ROOT_DIR, \"images\", CHAPTER_ID)\n",
        "#os.makedirs(IMAGES_PATH, exist_ok=True)\n",
        "\n",
        "def save_fig(fig_id, tight_layout=True, fig_extension=\"png\", resolution=300):\n",
        "    path = os.path.join(IMAGES_PATH, fig_id + \".\" + fig_extension)\n",
        "    print(\"Saving figure\", fig_id)\n",
        "    if tight_layout:\n",
        "        plt.tight_layout()\n",
        "    plt.savefig(path, format=fig_extension, dpi=resolution)\n",
        "\n",
        "# Ignore useless warnings (see SciPy issue #5998)\n",
        "import warnings\n",
        "warnings.filterwarnings(action=\"ignore\", message=\"^internal gelsd\")"
      ],
      "execution_count": 1,
      "outputs": []
    },
    {
      "cell_type": "code",
      "metadata": {
        "id": "o5OYxWrXh2B0",
        "colab_type": "code",
        "colab": {
          "base_uri": "https://localhost:8080/",
          "height": 34
        },
        "outputId": "3a239b26-b528-4010-a08d-af3c85c9c49d"
      },
      "source": [
        "# mount drive\n",
        "from google.colab import drive\n",
        "drive.mount('/content/gdrive')\n",
        "path_to_dir='/content/gdrive/My\\ Drive/FianlExamML/'"
      ],
      "execution_count": 13,
      "outputs": [
        {
          "output_type": "stream",
          "text": [
            "Drive already mounted at /content/gdrive; to attempt to forcibly remount, call drive.mount(\"/content/gdrive\", force_remount=True).\n"
          ],
          "name": "stdout"
        }
      ]
    },
    {
      "cell_type": "code",
      "metadata": {
        "id": "HD8FSU4jiWai",
        "colab_type": "code",
        "colab": {
          "base_uri": "https://localhost:8080/",
          "height": 34
        },
        "outputId": "e0a0bb32-4e27-4bff-9b8b-b11a44f7876e"
      },
      "source": [
        "!ls /content/gdrive/My\\ Drive/FianlExamML"
      ],
      "execution_count": 7,
      "outputs": [
        {
          "output_type": "stream",
          "text": [
            "ls: cannot access '/content/gdrive/My Drive/FianlExamML': No such file or directory\n"
          ],
          "name": "stdout"
        }
      ]
    },
    {
      "cell_type": "code",
      "metadata": {
        "id": "qXrjXxnLjnNH",
        "colab_type": "code",
        "colab": {
          "base_uri": "https://localhost:8080/",
          "height": 34
        },
        "outputId": "6eb5e858-a353-4ec7-f492-419073909ef8"
      },
      "source": [
        "# mount drive\n",
        "from google.colab import drive\n",
        "drive.mount('/content/gdrive')\n",
        "path_to_dir='/content/gdrive/My\\ Drive/FinalExamML/'"
      ],
      "execution_count": 16,
      "outputs": [
        {
          "output_type": "stream",
          "text": [
            "Drive already mounted at /content/gdrive; to attempt to forcibly remount, call drive.mount(\"/content/gdrive\", force_remount=True).\n"
          ],
          "name": "stdout"
        }
      ]
    },
    {
      "cell_type": "code",
      "metadata": {
        "id": "ORjKxROXkEYl",
        "colab_type": "code",
        "colab": {
          "base_uri": "https://localhost:8080/",
          "height": 300
        },
        "outputId": "9ceb19d7-e472-43e6-f759-acd29b862b22"
      },
      "source": [
        "import uproot"
      ],
      "execution_count": 17,
      "outputs": [
        {
          "output_type": "error",
          "ename": "ModuleNotFoundError",
          "evalue": "ignored",
          "traceback": [
            "\u001b[0;31m---------------------------------------------------------------------------\u001b[0m",
            "\u001b[0;31mModuleNotFoundError\u001b[0m                       Traceback (most recent call last)",
            "\u001b[0;32m<ipython-input-17-e035208a4b54>\u001b[0m in \u001b[0;36m<module>\u001b[0;34m()\u001b[0m\n\u001b[0;32m----> 1\u001b[0;31m \u001b[0;32mimport\u001b[0m \u001b[0muproot\u001b[0m\u001b[0;34m\u001b[0m\u001b[0;34m\u001b[0m\u001b[0m\n\u001b[0m",
            "\u001b[0;31mModuleNotFoundError\u001b[0m: No module named 'uproot'",
            "",
            "\u001b[0;31m---------------------------------------------------------------------------\u001b[0;32m\nNOTE: If your import is failing due to a missing package, you can\nmanually install dependencies using either !pip or !apt.\n\nTo view examples of installing some common dependencies, click the\n\"Open Examples\" button below.\n\u001b[0;31m---------------------------------------------------------------------------\u001b[0m\n"
          ]
        }
      ]
    },
    {
      "cell_type": "code",
      "metadata": {
        "id": "bGGdu-y9wcAm",
        "colab_type": "code",
        "colab": {
          "base_uri": "https://localhost:8080/",
          "height": 241
        },
        "outputId": "cab89da7-30cd-41c9-cc4b-0f3e8d5f3ff8"
      },
      "source": [
        "!pip install uproot "
      ],
      "execution_count": 18,
      "outputs": [
        {
          "output_type": "stream",
          "text": [
            "Collecting uproot\n",
            "\u001b[?25l  Downloading https://files.pythonhosted.org/packages/0a/52/0e5e295affc168430591b8a687f7ba6c2bb911c766605466e224e2b22069/uproot-3.11.7-py2.py3-none-any.whl (116kB)\n",
            "\r\u001b[K     |██▉                             | 10kB 19.9MB/s eta 0:00:01\r\u001b[K     |█████▋                          | 20kB 2.8MB/s eta 0:00:01\r\u001b[K     |████████▌                       | 30kB 3.8MB/s eta 0:00:01\r\u001b[K     |███████████▎                    | 40kB 4.2MB/s eta 0:00:01\r\u001b[K     |██████████████                  | 51kB 3.3MB/s eta 0:00:01\r\u001b[K     |█████████████████               | 61kB 3.8MB/s eta 0:00:01\r\u001b[K     |███████████████████▊            | 71kB 4.0MB/s eta 0:00:01\r\u001b[K     |██████████████████████▌         | 81kB 4.4MB/s eta 0:00:01\r\u001b[K     |█████████████████████████▍      | 92kB 4.7MB/s eta 0:00:01\r\u001b[K     |████████████████████████████▏   | 102kB 4.5MB/s eta 0:00:01\r\u001b[K     |███████████████████████████████ | 112kB 4.5MB/s eta 0:00:01\r\u001b[K     |████████████████████████████████| 122kB 4.5MB/s \n",
            "\u001b[?25hRequirement already satisfied: numpy>=1.13.1 in /usr/local/lib/python3.6/dist-packages (from uproot) (1.18.5)\n",
            "Collecting uproot-methods>=0.7.0\n",
            "  Downloading https://files.pythonhosted.org/packages/d3/68/d848b0ff4d1a30500b26dd570068edf5b30bafbc40500b887ef34d13377b/uproot_methods-0.7.4-py2.py3-none-any.whl\n",
            "Requirement already satisfied: cachetools in /usr/local/lib/python3.6/dist-packages (from uproot) (4.1.0)\n",
            "Collecting awkward<1.0,>=0.12.0\n",
            "\u001b[?25l  Downloading https://files.pythonhosted.org/packages/99/2f/00ba25d499c969d95dfce221d1ce3556a4400919f803d286c7c6817a108d/awkward-0.12.21-py2.py3-none-any.whl (87kB)\n",
            "\u001b[K     |████████████████████████████████| 92kB 7.8MB/s \n",
            "\u001b[?25hInstalling collected packages: awkward, uproot-methods, uproot\n",
            "Successfully installed awkward-0.12.21 uproot-3.11.7 uproot-methods-0.7.4\n"
          ],
          "name": "stdout"
        }
      ]
    },
    {
      "cell_type": "code",
      "metadata": {
        "id": "e_9WOaVbxF_d",
        "colab_type": "code",
        "colab": {}
      },
      "source": [
        "import uproot"
      ],
      "execution_count": 19,
      "outputs": []
    },
    {
      "cell_type": "code",
      "metadata": {
        "id": "OGQgeEJ6xJwh",
        "colab_type": "code",
        "colab": {}
      },
      "source": [
        "filePion=uproot.open(\"/content/gdrive/My Drive/AnalysisResults.root\")"
      ],
      "execution_count": 24,
      "outputs": []
    },
    {
      "cell_type": "code",
      "metadata": {
        "id": "bEUxcTZpx7qI",
        "colab_type": "code",
        "colab": {
          "base_uri": "https://localhost:8080/",
          "height": 34
        },
        "outputId": "9e1b108d-6c3d-4b51-bda8-4ff557319c68"
      },
      "source": [
        "!ls /content/gdrive/My\\ Drive/Ana*"
      ],
      "execution_count": 23,
      "outputs": [
        {
          "output_type": "stream",
          "text": [
            "'/content/gdrive/My Drive/AnalysisResults.root'\n"
          ],
          "name": "stdout"
        }
      ]
    },
    {
      "cell_type": "code",
      "metadata": {
        "id": "gmowoHcKy6PF",
        "colab_type": "code",
        "colab": {
          "base_uri": "https://localhost:8080/",
          "height": 34
        },
        "outputId": "b00c89ec-e775-45f6-81f5-dbf8860a9989"
      },
      "source": [
        "filePion.keys()"
      ],
      "execution_count": 25,
      "outputs": [
        {
          "output_type": "execute_result",
          "data": {
            "text/plain": [
              "[b'MultSelection_MC;1', b'MyTaskPions;1']"
            ]
          },
          "metadata": {
            "tags": []
          },
          "execution_count": 25
        }
      ]
    },
    {
      "cell_type": "code",
      "metadata": {
        "id": "WqiiKIIyzY50",
        "colab_type": "code",
        "colab": {}
      },
      "source": [
        "dirPion=filePion[\"MyTaskPions\"]"
      ],
      "execution_count": 26,
      "outputs": []
    },
    {
      "cell_type": "code",
      "metadata": {
        "id": "e2RWNRyZzqLd",
        "colab_type": "code",
        "colab": {
          "base_uri": "https://localhost:8080/",
          "height": 119
        },
        "outputId": "719b12d6-1873-4622-9d09-78180ad8a488"
      },
      "source": [
        "dirPion.keys()"
      ],
      "execution_count": 27,
      "outputs": [
        {
          "output_type": "execute_result",
          "data": {
            "text/plain": [
              "[b'MyOutputContainer;1',\n",
              " b'fSignalTree;1',\n",
              " b'fBkgTree;1',\n",
              " b'MyOutputContainer3;1',\n",
              " b'MyOutputContainer4;1',\n",
              " b'Risoluzione;1']"
            ]
          },
          "metadata": {
            "tags": []
          },
          "execution_count": 27
        }
      ]
    },
    {
      "cell_type": "code",
      "metadata": {
        "id": "r5u-dOSszsNf",
        "colab_type": "code",
        "colab": {}
      },
      "source": [
        "treePion=dirPion[\"fSignalTree\"]"
      ],
      "execution_count": 28,
      "outputs": []
    },
    {
      "cell_type": "code",
      "metadata": {
        "id": "h1SSI2nLzwj4",
        "colab_type": "code",
        "colab": {
          "base_uri": "https://localhost:8080/",
          "height": 323
        },
        "outputId": "88020665-dcfb-4841-b81d-49ba11b3c96d"
      },
      "source": [
        "treePion.keys()"
      ],
      "execution_count": 29,
      "outputs": [
        {
          "output_type": "execute_result",
          "data": {
            "text/plain": [
              "[b'fTreeVariableNSigmaTOFPion',\n",
              " b'fTreeVariableNSigmaTOFProton',\n",
              " b'fTreeVariableNSigmaTOFKaon',\n",
              " b'fTreeVariableNSigmaTPCPion',\n",
              " b'fTreeVariableNSigmaTPCProton',\n",
              " b'fTreeVariableNSigmaTPCKaon',\n",
              " b'fTreeVariabledEdX',\n",
              " b'fTreeVariableTOFBeta',\n",
              " b'fTreeVariableTOFMass',\n",
              " b'fTreeVariablePtTrigger',\n",
              " b'fTreeVariableChargeTrigger',\n",
              " b'fTreeVariableEtaTrigger',\n",
              " b'fTreeVariablePhiTrigger',\n",
              " b'fTreeVariableDCAz',\n",
              " b'fTreeVariableDCAxy',\n",
              " b'fTreeVariableisPrimaryTrigger',\n",
              " b'fTreeVariableMultiplicity',\n",
              " b'fTreeVariablePDGCodeTrigger']"
            ]
          },
          "metadata": {
            "tags": []
          },
          "execution_count": 29
        }
      ]
    },
    {
      "cell_type": "code",
      "metadata": {
        "id": "oQXsIiX0zyx8",
        "colab_type": "code",
        "colab": {
          "base_uri": "https://localhost:8080/",
          "height": 34
        },
        "outputId": "359f385a-9f09-4a49-ab67-718859cf21cd"
      },
      "source": [
        "treePion['fTreeVariableChargeTrigger'].array()"
      ],
      "execution_count": 30,
      "outputs": [
        {
          "output_type": "execute_result",
          "data": {
            "text/plain": [
              "array([ 1,  1,  1, ..., -1,  1,  1], dtype=int32)"
            ]
          },
          "metadata": {
            "tags": []
          },
          "execution_count": 30
        }
      ]
    },
    {
      "cell_type": "code",
      "metadata": {
        "id": "1Zo_P832z7y3",
        "colab_type": "code",
        "colab": {
          "base_uri": "https://localhost:8080/",
          "height": 470
        },
        "outputId": "29d30d50-9273-4c5f-a3cc-811b5d5ee31d"
      },
      "source": [
        "treePion.pandas.df([\"fTreeVariableNSigmaTOF*\", \"fTreeVariableNSigmaTPC*\", \"fTreeVariabledEdX\", \"fTreeVariableTOFMass\", \"fTreeVariablePtTrigger\"])"
      ],
      "execution_count": 31,
      "outputs": [
        {
          "output_type": "execute_result",
          "data": {
            "text/html": [
              "<div>\n",
              "<style scoped>\n",
              "    .dataframe tbody tr th:only-of-type {\n",
              "        vertical-align: middle;\n",
              "    }\n",
              "\n",
              "    .dataframe tbody tr th {\n",
              "        vertical-align: top;\n",
              "    }\n",
              "\n",
              "    .dataframe thead th {\n",
              "        text-align: right;\n",
              "    }\n",
              "</style>\n",
              "<table border=\"1\" class=\"dataframe\">\n",
              "  <thead>\n",
              "    <tr style=\"text-align: right;\">\n",
              "      <th></th>\n",
              "      <th>fTreeVariableNSigmaTOFPion</th>\n",
              "      <th>fTreeVariableNSigmaTOFProton</th>\n",
              "      <th>fTreeVariableNSigmaTOFKaon</th>\n",
              "      <th>fTreeVariableNSigmaTPCPion</th>\n",
              "      <th>fTreeVariableNSigmaTPCProton</th>\n",
              "      <th>fTreeVariableNSigmaTPCKaon</th>\n",
              "      <th>fTreeVariabledEdX</th>\n",
              "      <th>fTreeVariableTOFMass</th>\n",
              "      <th>fTreeVariablePtTrigger</th>\n",
              "    </tr>\n",
              "    <tr>\n",
              "      <th>entry</th>\n",
              "      <th></th>\n",
              "      <th></th>\n",
              "      <th></th>\n",
              "      <th></th>\n",
              "      <th></th>\n",
              "      <th></th>\n",
              "      <th></th>\n",
              "      <th></th>\n",
              "      <th></th>\n",
              "    </tr>\n",
              "  </thead>\n",
              "  <tbody>\n",
              "    <tr>\n",
              "      <th>0</th>\n",
              "      <td>0.918567</td>\n",
              "      <td>-35.513672</td>\n",
              "      <td>-20.527399</td>\n",
              "      <td>0.323678</td>\n",
              "      <td>-11.748958</td>\n",
              "      <td>-2.683780</td>\n",
              "      <td>50.31250</td>\n",
              "      <td>0.169956</td>\n",
              "      <td>0.680152</td>\n",
              "    </tr>\n",
              "    <tr>\n",
              "      <th>1</th>\n",
              "      <td>-999.000000</td>\n",
              "      <td>-999.000000</td>\n",
              "      <td>-999.000000</td>\n",
              "      <td>-1.153996</td>\n",
              "      <td>-17.027597</td>\n",
              "      <td>-15.634204</td>\n",
              "      <td>57.09375</td>\n",
              "      <td>-999.000000</td>\n",
              "      <td>0.265325</td>\n",
              "    </tr>\n",
              "    <tr>\n",
              "      <th>2</th>\n",
              "      <td>-999.000000</td>\n",
              "      <td>-999.000000</td>\n",
              "      <td>-999.000000</td>\n",
              "      <td>0.155855</td>\n",
              "      <td>-15.890946</td>\n",
              "      <td>-14.801109</td>\n",
              "      <td>53.15625</td>\n",
              "      <td>-999.000000</td>\n",
              "      <td>0.270509</td>\n",
              "    </tr>\n",
              "    <tr>\n",
              "      <th>3</th>\n",
              "      <td>1.226982</td>\n",
              "      <td>-31.313883</td>\n",
              "      <td>-32.581455</td>\n",
              "      <td>-0.590945</td>\n",
              "      <td>-16.512909</td>\n",
              "      <td>-8.736343</td>\n",
              "      <td>51.81250</td>\n",
              "      <td>0.150573</td>\n",
              "      <td>0.501138</td>\n",
              "    </tr>\n",
              "    <tr>\n",
              "      <th>4</th>\n",
              "      <td>-999.000000</td>\n",
              "      <td>-999.000000</td>\n",
              "      <td>-999.000000</td>\n",
              "      <td>1.670261</td>\n",
              "      <td>-14.866197</td>\n",
              "      <td>-14.983491</td>\n",
              "      <td>59.18750</td>\n",
              "      <td>-999.000000</td>\n",
              "      <td>0.243150</td>\n",
              "    </tr>\n",
              "    <tr>\n",
              "      <th>...</th>\n",
              "      <td>...</td>\n",
              "      <td>...</td>\n",
              "      <td>...</td>\n",
              "      <td>...</td>\n",
              "      <td>...</td>\n",
              "      <td>...</td>\n",
              "      <td>...</td>\n",
              "      <td>...</td>\n",
              "      <td>...</td>\n",
              "    </tr>\n",
              "    <tr>\n",
              "      <th>32269</th>\n",
              "      <td>1.221653</td>\n",
              "      <td>-35.550972</td>\n",
              "      <td>-15.472705</td>\n",
              "      <td>-1.598596</td>\n",
              "      <td>-7.957152</td>\n",
              "      <td>-2.154730</td>\n",
              "      <td>52.12500</td>\n",
              "      <td>0.077342</td>\n",
              "      <td>0.838925</td>\n",
              "    </tr>\n",
              "    <tr>\n",
              "      <th>32270</th>\n",
              "      <td>-999.000000</td>\n",
              "      <td>-999.000000</td>\n",
              "      <td>-999.000000</td>\n",
              "      <td>-0.429741</td>\n",
              "      <td>-6.021661</td>\n",
              "      <td>-0.481019</td>\n",
              "      <td>43.56250</td>\n",
              "      <td>-999.000000</td>\n",
              "      <td>0.865467</td>\n",
              "    </tr>\n",
              "    <tr>\n",
              "      <th>32271</th>\n",
              "      <td>-999.000000</td>\n",
              "      <td>-999.000000</td>\n",
              "      <td>-999.000000</td>\n",
              "      <td>0.598376</td>\n",
              "      <td>-10.698731</td>\n",
              "      <td>-3.459585</td>\n",
              "      <td>44.75000</td>\n",
              "      <td>-999.000000</td>\n",
              "      <td>0.494926</td>\n",
              "    </tr>\n",
              "    <tr>\n",
              "      <th>32272</th>\n",
              "      <td>-0.291232</td>\n",
              "      <td>-28.634235</td>\n",
              "      <td>-9.777461</td>\n",
              "      <td>1.497159</td>\n",
              "      <td>-1.595849</td>\n",
              "      <td>2.204110</td>\n",
              "      <td>51.18750</td>\n",
              "      <td>0.141791</td>\n",
              "      <td>1.202769</td>\n",
              "    </tr>\n",
              "    <tr>\n",
              "      <th>32273</th>\n",
              "      <td>-999.000000</td>\n",
              "      <td>-999.000000</td>\n",
              "      <td>-999.000000</td>\n",
              "      <td>4.514135</td>\n",
              "      <td>-13.651760</td>\n",
              "      <td>-13.831643</td>\n",
              "      <td>84.75000</td>\n",
              "      <td>-999.000000</td>\n",
              "      <td>0.182404</td>\n",
              "    </tr>\n",
              "  </tbody>\n",
              "</table>\n",
              "<p>32274 rows × 9 columns</p>\n",
              "</div>"
            ],
            "text/plain": [
              "       fTreeVariableNSigmaTOFPion  ...  fTreeVariablePtTrigger\n",
              "entry                              ...                        \n",
              "0                        0.918567  ...                0.680152\n",
              "1                     -999.000000  ...                0.265325\n",
              "2                     -999.000000  ...                0.270509\n",
              "3                        1.226982  ...                0.501138\n",
              "4                     -999.000000  ...                0.243150\n",
              "...                           ...  ...                     ...\n",
              "32269                    1.221653  ...                0.838925\n",
              "32270                 -999.000000  ...                0.865467\n",
              "32271                 -999.000000  ...                0.494926\n",
              "32272                   -0.291232  ...                1.202769\n",
              "32273                 -999.000000  ...                0.182404\n",
              "\n",
              "[32274 rows x 9 columns]"
            ]
          },
          "metadata": {
            "tags": []
          },
          "execution_count": 31
        }
      ]
    },
    {
      "cell_type": "code",
      "metadata": {
        "id": "GqcjPkys0fGU",
        "colab_type": "code",
        "colab": {}
      },
      "source": [
        ""
      ],
      "execution_count": null,
      "outputs": []
    }
  ]
}