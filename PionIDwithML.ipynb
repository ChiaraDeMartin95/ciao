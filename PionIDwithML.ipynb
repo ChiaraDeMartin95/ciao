{
  "nbformat": 4,
  "nbformat_minor": 0,
  "metadata": {
    "colab": {
      "name": "PionIDwithML.ipynb",
      "provenance": [],
      "collapsed_sections": [],
      "authorship_tag": "ABX9TyMP2lJRIV4+ieAf7RbY55Ua",
      "include_colab_link": true
    },
    "kernelspec": {
      "name": "python3",
      "display_name": "Python 3"
    }
  },
  "cells": [
    {
      "cell_type": "markdown",
      "metadata": {
        "id": "view-in-github",
        "colab_type": "text"
      },
      "source": [
        "<a href=\"https://colab.research.google.com/github/ChiaraDeMartin95/ciao/blob/master/PionIDwithML.ipynb\" target=\"_parent\"><img src=\"https://colab.research.google.com/assets/colab-badge.svg\" alt=\"Open In Colab\"/></a>"
      ]
    },
    {
      "cell_type": "code",
      "metadata": {
        "id": "sBGpmAz4tNCW",
        "colab_type": "code",
        "colab": {}
      },
      "source": [
        "# Python ≥3.5 is required\n",
        "import sys\n",
        "assert sys.version_info >= (3, 5)\n",
        "\n",
        "# Scikit-Learn ≥0.20 is required\n",
        "import sklearn\n",
        "assert sklearn.__version__ >= \"0.20\"\n",
        "\n",
        "# Common imports\n",
        "import numpy as np\n",
        "import os\n",
        "\n",
        "# To plot pretty figures\n",
        "%matplotlib inline\n",
        "import matplotlib as mpl\n",
        "import matplotlib.pyplot as plt\n",
        "mpl.rc('axes', labelsize=14)\n",
        "mpl.rc('xtick', labelsize=12)\n",
        "mpl.rc('ytick', labelsize=12)\n",
        "\n",
        "# Where to save the figures\n",
        "PROJECT_ROOT_DIR = \".\"\n",
        "CHAPTER_ID = \"PionID\"\n",
        "IMAGES_PATH = os.path.join(PROJECT_ROOT_DIR, \"images\", CHAPTER_ID)\n",
        "#os.makedirs(IMAGES_PATH, exist_ok=True)\n",
        "\n",
        "def save_fig(fig_id, tight_layout=True, fig_extension=\"png\", resolution=300):\n",
        "    path = os.path.join(IMAGES_PATH, fig_id + \".\" + fig_extension)\n",
        "    print(\"Saving figure\", fig_id)\n",
        "    if tight_layout:\n",
        "        plt.tight_layout()\n",
        "    plt.savefig(path, format=fig_extension, dpi=resolution)\n",
        "\n",
        "# Ignore useless warnings (see SciPy issue #5998)\n",
        "import warnings\n",
        "warnings.filterwarnings(action=\"ignore\", message=\"^internal gelsd\")"
      ],
      "execution_count": null,
      "outputs": []
    },
    {
      "cell_type": "code",
      "metadata": {
        "id": "o5OYxWrXh2B0",
        "colab_type": "code",
        "colab": {
          "base_uri": "https://localhost:8080/",
          "height": 122
        },
        "outputId": "2854c81e-be33-44f5-aa42-02beaf7a813b"
      },
      "source": [
        "# mount drive\n",
        "from google.colab import drive\n",
        "drive.mount('/content/gdrive')\n",
        "path_to_dir='/content/gdrive/My\\ Drive/FinalExamML/'"
      ],
      "execution_count": null,
      "outputs": [
        {
          "output_type": "stream",
          "text": [
            "Go to this URL in a browser: https://accounts.google.com/o/oauth2/auth?client_id=947318989803-6bn6qk8qdgf4n4g3pfee6491hc0brc4i.apps.googleusercontent.com&redirect_uri=urn%3aietf%3awg%3aoauth%3a2.0%3aoob&response_type=code&scope=email%20https%3a%2f%2fwww.googleapis.com%2fauth%2fdocs.test%20https%3a%2f%2fwww.googleapis.com%2fauth%2fdrive%20https%3a%2f%2fwww.googleapis.com%2fauth%2fdrive.photos.readonly%20https%3a%2f%2fwww.googleapis.com%2fauth%2fpeopleapi.readonly\n",
            "\n",
            "Enter your authorization code:\n",
            "··········\n",
            "Mounted at /content/gdrive\n"
          ],
          "name": "stdout"
        }
      ]
    },
    {
      "cell_type": "code",
      "metadata": {
        "id": "HD8FSU4jiWai",
        "colab_type": "code",
        "colab": {
          "base_uri": "https://localhost:8080/",
          "height": 34
        },
        "outputId": "30951bf8-2f43-4cd1-9fc9-7199c26a3d67"
      },
      "source": [
        "!ls /content/gdrive/My\\ Drive/FianlExamML"
      ],
      "execution_count": null,
      "outputs": [
        {
          "output_type": "stream",
          "text": [
            "ls: cannot access '/content/gdrive/My Drive/FianlExamML': No such file or directory\n"
          ],
          "name": "stdout"
        }
      ]
    },
    {
      "cell_type": "code",
      "metadata": {
        "id": "bGGdu-y9wcAm",
        "colab_type": "code",
        "colab": {
          "base_uri": "https://localhost:8080/",
          "height": 241
        },
        "outputId": "08921ce3-03ef-4437-e654-6d65e825bac9"
      },
      "source": [
        "!pip install uproot "
      ],
      "execution_count": null,
      "outputs": [
        {
          "output_type": "stream",
          "text": [
            "Collecting uproot\n",
            "\u001b[?25l  Downloading https://files.pythonhosted.org/packages/0a/52/0e5e295affc168430591b8a687f7ba6c2bb911c766605466e224e2b22069/uproot-3.11.7-py2.py3-none-any.whl (116kB)\n",
            "\r\u001b[K     |██▉                             | 10kB 16.0MB/s eta 0:00:01\r\u001b[K     |█████▋                          | 20kB 1.8MB/s eta 0:00:01\r\u001b[K     |████████▌                       | 30kB 2.4MB/s eta 0:00:01\r\u001b[K     |███████████▎                    | 40kB 2.7MB/s eta 0:00:01\r\u001b[K     |██████████████                  | 51kB 2.1MB/s eta 0:00:01\r\u001b[K     |█████████████████               | 61kB 2.3MB/s eta 0:00:01\r\u001b[K     |███████████████████▊            | 71kB 2.6MB/s eta 0:00:01\r\u001b[K     |██████████████████████▌         | 81kB 2.9MB/s eta 0:00:01\r\u001b[K     |█████████████████████████▍      | 92kB 3.0MB/s eta 0:00:01\r\u001b[K     |████████████████████████████▏   | 102kB 2.9MB/s eta 0:00:01\r\u001b[K     |███████████████████████████████ | 112kB 2.9MB/s eta 0:00:01\r\u001b[K     |████████████████████████████████| 122kB 2.9MB/s \n",
            "\u001b[?25hRequirement already satisfied: cachetools in /usr/local/lib/python3.6/dist-packages (from uproot) (4.1.0)\n",
            "Collecting awkward<1.0,>=0.12.0\n",
            "\u001b[?25l  Downloading https://files.pythonhosted.org/packages/fc/8c/8ea1400b1abb1ae3258c9a71b4fc0094d33c21c55f9f5371541984dcc3ef/awkward-0.12.22-py2.py3-none-any.whl (87kB)\n",
            "\u001b[K     |████████████████████████████████| 92kB 5.1MB/s \n",
            "\u001b[?25hRequirement already satisfied: numpy>=1.13.1 in /usr/local/lib/python3.6/dist-packages (from uproot) (1.18.5)\n",
            "Collecting uproot-methods>=0.7.0\n",
            "  Downloading https://files.pythonhosted.org/packages/d3/68/d848b0ff4d1a30500b26dd570068edf5b30bafbc40500b887ef34d13377b/uproot_methods-0.7.4-py2.py3-none-any.whl\n",
            "Installing collected packages: awkward, uproot-methods, uproot\n",
            "Successfully installed awkward-0.12.22 uproot-3.11.7 uproot-methods-0.7.4\n"
          ],
          "name": "stdout"
        }
      ]
    },
    {
      "cell_type": "code",
      "metadata": {
        "id": "e_9WOaVbxF_d",
        "colab_type": "code",
        "colab": {}
      },
      "source": [
        "import uproot"
      ],
      "execution_count": null,
      "outputs": []
    },
    {
      "cell_type": "code",
      "metadata": {
        "id": "OGQgeEJ6xJwh",
        "colab_type": "code",
        "colab": {}
      },
      "source": [
        "filePion=uproot.open(\"/content/gdrive/My Drive/AnalysisResultsPionsMC.root\")\n",
        "#filePion=uproot.open(\"/content/gdrive/My Drive/AnalysisResults2018f1_extra_Pions_5runs.root\")"
      ],
      "execution_count": null,
      "outputs": []
    },
    {
      "cell_type": "code",
      "metadata": {
        "id": "bEUxcTZpx7qI",
        "colab_type": "code",
        "colab": {
          "base_uri": "https://localhost:8080/",
          "height": 68
        },
        "outputId": "27a91de9-3dbb-4409-f2ba-e728e7aa6ccb"
      },
      "source": [
        "!ls /content/gdrive/My\\ Drive/Ana*"
      ],
      "execution_count": null,
      "outputs": [
        {
          "output_type": "stream",
          "text": [
            "'/content/gdrive/My Drive/AnalysisResults2018f1_extra_Pions_5runs.root'\n",
            "'/content/gdrive/My Drive/AnalysisResultsPionsData.root'\n",
            "'/content/gdrive/My Drive/AnalysisResultsPionsMC.root'\n"
          ],
          "name": "stdout"
        }
      ]
    },
    {
      "cell_type": "code",
      "metadata": {
        "id": "gmowoHcKy6PF",
        "colab_type": "code",
        "colab": {
          "base_uri": "https://localhost:8080/",
          "height": 34
        },
        "outputId": "69af74e1-47b4-4ed0-a6ba-ff7aa1a138f2"
      },
      "source": [
        "filePion.keys()"
      ],
      "execution_count": null,
      "outputs": [
        {
          "output_type": "execute_result",
          "data": {
            "text/plain": [
              "[b'MultSelection_MC;1', b'MyTaskPions;1']"
            ]
          },
          "metadata": {
            "tags": []
          },
          "execution_count": 8
        }
      ]
    },
    {
      "cell_type": "code",
      "metadata": {
        "id": "WqiiKIIyzY50",
        "colab_type": "code",
        "colab": {}
      },
      "source": [
        "dirPion=filePion[\"MyTaskPions\"]"
      ],
      "execution_count": null,
      "outputs": []
    },
    {
      "cell_type": "code",
      "metadata": {
        "id": "e2RWNRyZzqLd",
        "colab_type": "code",
        "colab": {
          "base_uri": "https://localhost:8080/",
          "height": 119
        },
        "outputId": "e84c5aa2-8914-43d5-cc3b-da4fc60e2807"
      },
      "source": [
        "dirPion.keys()"
      ],
      "execution_count": null,
      "outputs": [
        {
          "output_type": "execute_result",
          "data": {
            "text/plain": [
              "[b'MyOutputContainer;1',\n",
              " b'fSignalTree;1',\n",
              " b'fBkgTree;1',\n",
              " b'MyOutputContainer3;1',\n",
              " b'MyOutputContainer4;1',\n",
              " b'Risoluzione;1']"
            ]
          },
          "metadata": {
            "tags": []
          },
          "execution_count": 10
        }
      ]
    },
    {
      "cell_type": "code",
      "metadata": {
        "id": "r5u-dOSszsNf",
        "colab_type": "code",
        "colab": {}
      },
      "source": [
        "treePion=dirPion[\"fSignalTree\"]"
      ],
      "execution_count": null,
      "outputs": []
    },
    {
      "cell_type": "code",
      "metadata": {
        "id": "h1SSI2nLzwj4",
        "colab_type": "code",
        "colab": {
          "base_uri": "https://localhost:8080/",
          "height": 340
        },
        "outputId": "4288db7e-0e70-43bc-95ff-201159450cba"
      },
      "source": [
        "treePion.keys()"
      ],
      "execution_count": null,
      "outputs": [
        {
          "output_type": "execute_result",
          "data": {
            "text/plain": [
              "[b'fTreeVariableNSigmaTOFPion',\n",
              " b'fTreeVariableNSigmaTOFProton',\n",
              " b'fTreeVariableNSigmaTOFKaon',\n",
              " b'fTreeVariableNSigmaTPCPion',\n",
              " b'fTreeVariableNSigmaTPCProton',\n",
              " b'fTreeVariableNSigmaTPCKaon',\n",
              " b'fTreeVariabledEdX',\n",
              " b'fTreeVariableTOFBeta',\n",
              " b'fTreeVariableTOFMass',\n",
              " b'fTreeVariablePtTrigger',\n",
              " b'fTreeVariablePtot',\n",
              " b'fTreeVariableChargeTrigger',\n",
              " b'fTreeVariableEtaTrigger',\n",
              " b'fTreeVariablePhiTrigger',\n",
              " b'fTreeVariableDCAz',\n",
              " b'fTreeVariableDCAxy',\n",
              " b'fTreeVariableisPrimaryTrigger',\n",
              " b'fTreeVariableMultiplicity',\n",
              " b'fTreeVariablePDGCodeTrigger']"
            ]
          },
          "metadata": {
            "tags": []
          },
          "execution_count": 12
        }
      ]
    },
    {
      "cell_type": "code",
      "metadata": {
        "id": "oQXsIiX0zyx8",
        "colab_type": "code",
        "colab": {
          "base_uri": "https://localhost:8080/",
          "height": 34
        },
        "outputId": "210bce59-1e3d-4f40-b0bd-09ae0401614b"
      },
      "source": [
        "treePion['fTreeVariableChargeTrigger'].array()"
      ],
      "execution_count": null,
      "outputs": [
        {
          "output_type": "execute_result",
          "data": {
            "text/plain": [
              "array([ 1,  1,  1, ...,  1,  1, -1], dtype=int32)"
            ]
          },
          "metadata": {
            "tags": []
          },
          "execution_count": 13
        }
      ]
    },
    {
      "cell_type": "code",
      "metadata": {
        "id": "1Zo_P832z7y3",
        "colab_type": "code",
        "colab": {}
      },
      "source": [
        "PandaPionDF=treePion.pandas.df([\"fTreeVariablePDGCodeTrigger\", \"fTreeVariableNSigmaTOF*\", \"fTreeVariableNSigmaTPC*\", \"fTreeVariabledEdX\", \"fTreeVariableTOFBeta\", \"fTreeVariablePtTrigger\", \"fTreeVariablePtot\"])\n",
        "PandaPionDFTry1=treePion.pandas.df([\"fTreeVariablePDGCodeTrigger\", \"fTreeVariableNSigmaTOF*\", \"fTreeVariableNSigmaTPC*\", \"fTreeVariabledEdX\", \"fTreeVariableTOFBeta\", \"fTreeVariablePtTrigger\", \"fTreeVariablePtot\"])"
      ],
      "execution_count": null,
      "outputs": []
    },
    {
      "cell_type": "code",
      "metadata": {
        "id": "yKLJw0cyte7f",
        "colab_type": "code",
        "colab": {
          "base_uri": "https://localhost:8080/",
          "height": 470
        },
        "outputId": "3249a2e6-ebe3-451c-94bb-134e802c4574"
      },
      "source": [
        "PandaPionDFTry1"
      ],
      "execution_count": null,
      "outputs": [
        {
          "output_type": "execute_result",
          "data": {
            "text/html": [
              "<div>\n",
              "<style scoped>\n",
              "    .dataframe tbody tr th:only-of-type {\n",
              "        vertical-align: middle;\n",
              "    }\n",
              "\n",
              "    .dataframe tbody tr th {\n",
              "        vertical-align: top;\n",
              "    }\n",
              "\n",
              "    .dataframe thead th {\n",
              "        text-align: right;\n",
              "    }\n",
              "</style>\n",
              "<table border=\"1\" class=\"dataframe\">\n",
              "  <thead>\n",
              "    <tr style=\"text-align: right;\">\n",
              "      <th></th>\n",
              "      <th>fTreeVariablePDGCodeTrigger</th>\n",
              "      <th>fTreeVariableNSigmaTOFPion</th>\n",
              "      <th>fTreeVariableNSigmaTOFProton</th>\n",
              "      <th>fTreeVariableNSigmaTOFKaon</th>\n",
              "      <th>fTreeVariableNSigmaTPCPion</th>\n",
              "      <th>fTreeVariableNSigmaTPCProton</th>\n",
              "      <th>fTreeVariableNSigmaTPCKaon</th>\n",
              "      <th>fTreeVariabledEdX</th>\n",
              "      <th>fTreeVariableTOFBeta</th>\n",
              "      <th>fTreeVariablePtTrigger</th>\n",
              "      <th>fTreeVariablePtot</th>\n",
              "    </tr>\n",
              "    <tr>\n",
              "      <th>entry</th>\n",
              "      <th></th>\n",
              "      <th></th>\n",
              "      <th></th>\n",
              "      <th></th>\n",
              "      <th></th>\n",
              "      <th></th>\n",
              "      <th></th>\n",
              "      <th></th>\n",
              "      <th></th>\n",
              "      <th></th>\n",
              "      <th></th>\n",
              "    </tr>\n",
              "  </thead>\n",
              "  <tbody>\n",
              "    <tr>\n",
              "      <th>0</th>\n",
              "      <td>211</td>\n",
              "      <td>-2.230226</td>\n",
              "      <td>-35.320332</td>\n",
              "      <td>-25.963812</td>\n",
              "      <td>-0.127966</td>\n",
              "      <td>-9.431816</td>\n",
              "      <td>-3.828087</td>\n",
              "      <td>52.43750</td>\n",
              "      <td>0.994264</td>\n",
              "      <td>0.649327</td>\n",
              "      <td>0.670385</td>\n",
              "    </tr>\n",
              "    <tr>\n",
              "      <th>1</th>\n",
              "      <td>2212</td>\n",
              "      <td>10.081083</td>\n",
              "      <td>0.804991</td>\n",
              "      <td>7.599912</td>\n",
              "      <td>-2.008423</td>\n",
              "      <td>0.096354</td>\n",
              "      <td>0.284303</td>\n",
              "      <td>47.50000</td>\n",
              "      <td>0.924140</td>\n",
              "      <td>2.227615</td>\n",
              "      <td>2.447410</td>\n",
              "    </tr>\n",
              "    <tr>\n",
              "      <th>2</th>\n",
              "      <td>211</td>\n",
              "      <td>-0.553305</td>\n",
              "      <td>-27.344255</td>\n",
              "      <td>-33.411983</td>\n",
              "      <td>0.689799</td>\n",
              "      <td>-11.394800</td>\n",
              "      <td>-7.378132</td>\n",
              "      <td>47.75000</td>\n",
              "      <td>0.942234</td>\n",
              "      <td>0.379171</td>\n",
              "      <td>0.388629</td>\n",
              "    </tr>\n",
              "    <tr>\n",
              "      <th>3</th>\n",
              "      <td>211</td>\n",
              "      <td>-999.000000</td>\n",
              "      <td>-999.000000</td>\n",
              "      <td>-999.000000</td>\n",
              "      <td>-0.032429</td>\n",
              "      <td>-12.332022</td>\n",
              "      <td>-8.524711</td>\n",
              "      <td>51.34375</td>\n",
              "      <td>-999.000000</td>\n",
              "      <td>0.369425</td>\n",
              "      <td>0.367349</td>\n",
              "    </tr>\n",
              "    <tr>\n",
              "      <th>4</th>\n",
              "      <td>-211</td>\n",
              "      <td>-999.000000</td>\n",
              "      <td>-999.000000</td>\n",
              "      <td>-999.000000</td>\n",
              "      <td>-0.359210</td>\n",
              "      <td>-9.399902</td>\n",
              "      <td>-4.866641</td>\n",
              "      <td>45.81250</td>\n",
              "      <td>-999.000000</td>\n",
              "      <td>0.446053</td>\n",
              "      <td>0.562155</td>\n",
              "    </tr>\n",
              "    <tr>\n",
              "      <th>...</th>\n",
              "      <td>...</td>\n",
              "      <td>...</td>\n",
              "      <td>...</td>\n",
              "      <td>...</td>\n",
              "      <td>...</td>\n",
              "      <td>...</td>\n",
              "      <td>...</td>\n",
              "      <td>...</td>\n",
              "      <td>...</td>\n",
              "      <td>...</td>\n",
              "      <td>...</td>\n",
              "    </tr>\n",
              "    <tr>\n",
              "      <th>29881</th>\n",
              "      <td>211</td>\n",
              "      <td>-999.000000</td>\n",
              "      <td>-999.000000</td>\n",
              "      <td>-999.000000</td>\n",
              "      <td>0.184357</td>\n",
              "      <td>-1.257316</td>\n",
              "      <td>1.580425</td>\n",
              "      <td>53.65625</td>\n",
              "      <td>-999.000000</td>\n",
              "      <td>1.026745</td>\n",
              "      <td>1.465556</td>\n",
              "    </tr>\n",
              "    <tr>\n",
              "      <th>29882</th>\n",
              "      <td>-211</td>\n",
              "      <td>-999.000000</td>\n",
              "      <td>-999.000000</td>\n",
              "      <td>-999.000000</td>\n",
              "      <td>1.364241</td>\n",
              "      <td>-11.928434</td>\n",
              "      <td>-8.041983</td>\n",
              "      <td>47.78125</td>\n",
              "      <td>-999.000000</td>\n",
              "      <td>0.261129</td>\n",
              "      <td>0.351443</td>\n",
              "    </tr>\n",
              "    <tr>\n",
              "      <th>29883</th>\n",
              "      <td>211</td>\n",
              "      <td>-999.000000</td>\n",
              "      <td>-999.000000</td>\n",
              "      <td>-999.000000</td>\n",
              "      <td>0.234863</td>\n",
              "      <td>-11.159876</td>\n",
              "      <td>-6.697582</td>\n",
              "      <td>52.50000</td>\n",
              "      <td>-999.000000</td>\n",
              "      <td>0.329840</td>\n",
              "      <td>0.446656</td>\n",
              "    </tr>\n",
              "    <tr>\n",
              "      <th>29884</th>\n",
              "      <td>-11</td>\n",
              "      <td>-999.000000</td>\n",
              "      <td>-999.000000</td>\n",
              "      <td>-999.000000</td>\n",
              "      <td>3.699789</td>\n",
              "      <td>-12.625470</td>\n",
              "      <td>-10.292855</td>\n",
              "      <td>71.75000</td>\n",
              "      <td>-999.000000</td>\n",
              "      <td>0.185232</td>\n",
              "      <td>0.201746</td>\n",
              "    </tr>\n",
              "    <tr>\n",
              "      <th>29885</th>\n",
              "      <td>-211</td>\n",
              "      <td>-999.000000</td>\n",
              "      <td>-999.000000</td>\n",
              "      <td>-999.000000</td>\n",
              "      <td>1.396204</td>\n",
              "      <td>-11.714977</td>\n",
              "      <td>-10.177470</td>\n",
              "      <td>73.18750</td>\n",
              "      <td>-999.000000</td>\n",
              "      <td>0.165671</td>\n",
              "      <td>0.171239</td>\n",
              "    </tr>\n",
              "  </tbody>\n",
              "</table>\n",
              "<p>29886 rows × 11 columns</p>\n",
              "</div>"
            ],
            "text/plain": [
              "       fTreeVariablePDGCodeTrigger  ...  fTreeVariablePtot\n",
              "entry                               ...                   \n",
              "0                              211  ...           0.670385\n",
              "1                             2212  ...           2.447410\n",
              "2                              211  ...           0.388629\n",
              "3                              211  ...           0.367349\n",
              "4                             -211  ...           0.562155\n",
              "...                            ...  ...                ...\n",
              "29881                          211  ...           1.465556\n",
              "29882                         -211  ...           0.351443\n",
              "29883                          211  ...           0.446656\n",
              "29884                          -11  ...           0.201746\n",
              "29885                         -211  ...           0.171239\n",
              "\n",
              "[29886 rows x 11 columns]"
            ]
          },
          "metadata": {
            "tags": []
          },
          "execution_count": 15
        }
      ]
    },
    {
      "cell_type": "code",
      "metadata": {
        "id": "_SiwPapw4b2y",
        "colab_type": "code",
        "colab": {}
      },
      "source": [
        "VarNames=[\"fTreeVariablePDGCodeTrigger\", \"fTreeVariableNSigmaTOFPion\",\"fTreeVariableNSigmaTOFProton\",\"fTreeVariableNSigmaTOFKaon\", \"fTreeVariableNSigmaTPCPion\",\"fTreeVariableNSigmaTPCProton\", \"fTreeVariableNSigmaTPCKaon\", \"fTreeVariabledEdX\", \"fTreeVariableTOFBeta\", \"fTreeVariablePtTrigger\", \"fTreeVariablePtot\"]"
      ],
      "execution_count": null,
      "outputs": []
    },
    {
      "cell_type": "code",
      "metadata": {
        "id": "GqcjPkys0fGU",
        "colab_type": "code",
        "colab": {
          "base_uri": "https://localhost:8080/",
          "height": 323
        },
        "outputId": "63554b29-170c-42f0-e504-7e1fc8b21210"
      },
      "source": [
        "PandaPionDF.info()"
      ],
      "execution_count": null,
      "outputs": [
        {
          "output_type": "stream",
          "text": [
            "<class 'pandas.core.frame.DataFrame'>\n",
            "RangeIndex: 29886 entries, 0 to 29885\n",
            "Data columns (total 11 columns):\n",
            " #   Column                        Non-Null Count  Dtype  \n",
            "---  ------                        --------------  -----  \n",
            " 0   fTreeVariablePDGCodeTrigger   29886 non-null  int32  \n",
            " 1   fTreeVariableNSigmaTOFPion    29886 non-null  float64\n",
            " 2   fTreeVariableNSigmaTOFProton  29886 non-null  float64\n",
            " 3   fTreeVariableNSigmaTOFKaon    29886 non-null  float64\n",
            " 4   fTreeVariableNSigmaTPCPion    29886 non-null  float64\n",
            " 5   fTreeVariableNSigmaTPCProton  29886 non-null  float64\n",
            " 6   fTreeVariableNSigmaTPCKaon    29886 non-null  float64\n",
            " 7   fTreeVariabledEdX             29886 non-null  float64\n",
            " 8   fTreeVariableTOFBeta          29886 non-null  float64\n",
            " 9   fTreeVariablePtTrigger        29886 non-null  float64\n",
            " 10  fTreeVariablePtot             29886 non-null  float64\n",
            "dtypes: float64(10), int32(1)\n",
            "memory usage: 2.4 MB\n"
          ],
          "name": "stdout"
        }
      ]
    },
    {
      "cell_type": "code",
      "metadata": {
        "id": "Fogong6E1vUt",
        "colab_type": "code",
        "colab": {
          "base_uri": "https://localhost:8080/",
          "height": 317
        },
        "outputId": "046c4fd9-ff03-4c63-a8a0-fc29a3e39832"
      },
      "source": [
        "PandaPionDF.describe()"
      ],
      "execution_count": null,
      "outputs": [
        {
          "output_type": "execute_result",
          "data": {
            "text/html": [
              "<div>\n",
              "<style scoped>\n",
              "    .dataframe tbody tr th:only-of-type {\n",
              "        vertical-align: middle;\n",
              "    }\n",
              "\n",
              "    .dataframe tbody tr th {\n",
              "        vertical-align: top;\n",
              "    }\n",
              "\n",
              "    .dataframe thead th {\n",
              "        text-align: right;\n",
              "    }\n",
              "</style>\n",
              "<table border=\"1\" class=\"dataframe\">\n",
              "  <thead>\n",
              "    <tr style=\"text-align: right;\">\n",
              "      <th></th>\n",
              "      <th>fTreeVariablePDGCodeTrigger</th>\n",
              "      <th>fTreeVariableNSigmaTOFPion</th>\n",
              "      <th>fTreeVariableNSigmaTOFProton</th>\n",
              "      <th>fTreeVariableNSigmaTOFKaon</th>\n",
              "      <th>fTreeVariableNSigmaTPCPion</th>\n",
              "      <th>fTreeVariableNSigmaTPCProton</th>\n",
              "      <th>fTreeVariableNSigmaTPCKaon</th>\n",
              "      <th>fTreeVariabledEdX</th>\n",
              "      <th>fTreeVariableTOFBeta</th>\n",
              "      <th>fTreeVariablePtTrigger</th>\n",
              "      <th>fTreeVariablePtot</th>\n",
              "    </tr>\n",
              "  </thead>\n",
              "  <tbody>\n",
              "    <tr>\n",
              "      <th>count</th>\n",
              "      <td>29886.000000</td>\n",
              "      <td>29886.000000</td>\n",
              "      <td>29886.000000</td>\n",
              "      <td>29886.000000</td>\n",
              "      <td>29886.000000</td>\n",
              "      <td>29886.000000</td>\n",
              "      <td>29886.000000</td>\n",
              "      <td>29886.000000</td>\n",
              "      <td>29886.000000</td>\n",
              "      <td>29886.000000</td>\n",
              "      <td>29886.000000</td>\n",
              "    </tr>\n",
              "    <tr>\n",
              "      <th>mean</th>\n",
              "      <td>4.898347</td>\n",
              "      <td>-691.978429</td>\n",
              "      <td>-702.733083</td>\n",
              "      <td>-699.022504</td>\n",
              "      <td>0.962169</td>\n",
              "      <td>-8.064070</td>\n",
              "      <td>-4.049363</td>\n",
              "      <td>55.557713</td>\n",
              "      <td>-694.454808</td>\n",
              "      <td>0.689646</td>\n",
              "      <td>0.798664</td>\n",
              "    </tr>\n",
              "    <tr>\n",
              "      <th>std</th>\n",
              "      <td>496.392148</td>\n",
              "      <td>468.556713</td>\n",
              "      <td>448.616604</td>\n",
              "      <td>456.007426</td>\n",
              "      <td>12.408893</td>\n",
              "      <td>10.953616</td>\n",
              "      <td>11.248198</td>\n",
              "      <td>25.783751</td>\n",
              "      <td>460.209062</td>\n",
              "      <td>0.612956</td>\n",
              "      <td>0.739125</td>\n",
              "    </tr>\n",
              "    <tr>\n",
              "      <th>min</th>\n",
              "      <td>-2212.000000</td>\n",
              "      <td>-999.000000</td>\n",
              "      <td>-999.000000</td>\n",
              "      <td>-999.000000</td>\n",
              "      <td>-999.000000</td>\n",
              "      <td>-999.000000</td>\n",
              "      <td>-999.000000</td>\n",
              "      <td>0.000000</td>\n",
              "      <td>-999.000000</td>\n",
              "      <td>0.134207</td>\n",
              "      <td>0.118804</td>\n",
              "    </tr>\n",
              "    <tr>\n",
              "      <th>25%</th>\n",
              "      <td>-211.000000</td>\n",
              "      <td>-999.000000</td>\n",
              "      <td>-999.000000</td>\n",
              "      <td>-999.000000</td>\n",
              "      <td>-0.689037</td>\n",
              "      <td>-11.808264</td>\n",
              "      <td>-8.294208</td>\n",
              "      <td>48.187500</td>\n",
              "      <td>-999.000000</td>\n",
              "      <td>0.324390</td>\n",
              "      <td>0.363637</td>\n",
              "    </tr>\n",
              "    <tr>\n",
              "      <th>50%</th>\n",
              "      <td>11.000000</td>\n",
              "      <td>-999.000000</td>\n",
              "      <td>-999.000000</td>\n",
              "      <td>-999.000000</td>\n",
              "      <td>0.058235</td>\n",
              "      <td>-9.476601</td>\n",
              "      <td>-4.296030</td>\n",
              "      <td>51.062500</td>\n",
              "      <td>-999.000000</td>\n",
              "      <td>0.511089</td>\n",
              "      <td>0.583915</td>\n",
              "    </tr>\n",
              "    <tr>\n",
              "      <th>75%</th>\n",
              "      <td>211.000000</td>\n",
              "      <td>-0.841192</td>\n",
              "      <td>-36.153902</td>\n",
              "      <td>-33.377750</td>\n",
              "      <td>0.857522</td>\n",
              "      <td>-5.001413</td>\n",
              "      <td>-0.333522</td>\n",
              "      <td>55.218750</td>\n",
              "      <td>0.949243</td>\n",
              "      <td>0.832866</td>\n",
              "      <td>0.958753</td>\n",
              "    </tr>\n",
              "    <tr>\n",
              "      <th>max</th>\n",
              "      <td>2212.000000</td>\n",
              "      <td>4169.488770</td>\n",
              "      <td>2629.593018</td>\n",
              "      <td>3698.128906</td>\n",
              "      <td>193.287811</td>\n",
              "      <td>12.716328</td>\n",
              "      <td>35.669773</td>\n",
              "      <td>908.000000</td>\n",
              "      <td>1.205457</td>\n",
              "      <td>16.570082</td>\n",
              "      <td>15.016760</td>\n",
              "    </tr>\n",
              "  </tbody>\n",
              "</table>\n",
              "</div>"
            ],
            "text/plain": [
              "       fTreeVariablePDGCodeTrigger  ...  fTreeVariablePtot\n",
              "count                 29886.000000  ...       29886.000000\n",
              "mean                      4.898347  ...           0.798664\n",
              "std                     496.392148  ...           0.739125\n",
              "min                   -2212.000000  ...           0.118804\n",
              "25%                    -211.000000  ...           0.363637\n",
              "50%                      11.000000  ...           0.583915\n",
              "75%                     211.000000  ...           0.958753\n",
              "max                    2212.000000  ...          15.016760\n",
              "\n",
              "[8 rows x 11 columns]"
            ]
          },
          "metadata": {
            "tags": []
          },
          "execution_count": 18
        }
      ]
    },
    {
      "cell_type": "code",
      "metadata": {
        "id": "jjOWSDRj130n",
        "colab_type": "code",
        "colab": {
          "base_uri": "https://localhost:8080/",
          "height": 255
        },
        "outputId": "64078ced-fb79-4b8f-9891-299d9ac5c030"
      },
      "source": [
        "PandaPionDF.head()"
      ],
      "execution_count": null,
      "outputs": [
        {
          "output_type": "execute_result",
          "data": {
            "text/html": [
              "<div>\n",
              "<style scoped>\n",
              "    .dataframe tbody tr th:only-of-type {\n",
              "        vertical-align: middle;\n",
              "    }\n",
              "\n",
              "    .dataframe tbody tr th {\n",
              "        vertical-align: top;\n",
              "    }\n",
              "\n",
              "    .dataframe thead th {\n",
              "        text-align: right;\n",
              "    }\n",
              "</style>\n",
              "<table border=\"1\" class=\"dataframe\">\n",
              "  <thead>\n",
              "    <tr style=\"text-align: right;\">\n",
              "      <th></th>\n",
              "      <th>fTreeVariablePDGCodeTrigger</th>\n",
              "      <th>fTreeVariableNSigmaTOFPion</th>\n",
              "      <th>fTreeVariableNSigmaTOFProton</th>\n",
              "      <th>fTreeVariableNSigmaTOFKaon</th>\n",
              "      <th>fTreeVariableNSigmaTPCPion</th>\n",
              "      <th>fTreeVariableNSigmaTPCProton</th>\n",
              "      <th>fTreeVariableNSigmaTPCKaon</th>\n",
              "      <th>fTreeVariabledEdX</th>\n",
              "      <th>fTreeVariableTOFBeta</th>\n",
              "      <th>fTreeVariablePtTrigger</th>\n",
              "      <th>fTreeVariablePtot</th>\n",
              "    </tr>\n",
              "    <tr>\n",
              "      <th>entry</th>\n",
              "      <th></th>\n",
              "      <th></th>\n",
              "      <th></th>\n",
              "      <th></th>\n",
              "      <th></th>\n",
              "      <th></th>\n",
              "      <th></th>\n",
              "      <th></th>\n",
              "      <th></th>\n",
              "      <th></th>\n",
              "      <th></th>\n",
              "    </tr>\n",
              "  </thead>\n",
              "  <tbody>\n",
              "    <tr>\n",
              "      <th>0</th>\n",
              "      <td>211</td>\n",
              "      <td>-2.230226</td>\n",
              "      <td>-35.320332</td>\n",
              "      <td>-25.963812</td>\n",
              "      <td>-0.127966</td>\n",
              "      <td>-9.431816</td>\n",
              "      <td>-3.828087</td>\n",
              "      <td>52.43750</td>\n",
              "      <td>0.994264</td>\n",
              "      <td>0.649327</td>\n",
              "      <td>0.670385</td>\n",
              "    </tr>\n",
              "    <tr>\n",
              "      <th>1</th>\n",
              "      <td>2212</td>\n",
              "      <td>10.081083</td>\n",
              "      <td>0.804991</td>\n",
              "      <td>7.599912</td>\n",
              "      <td>-2.008423</td>\n",
              "      <td>0.096354</td>\n",
              "      <td>0.284303</td>\n",
              "      <td>47.50000</td>\n",
              "      <td>0.924140</td>\n",
              "      <td>2.227615</td>\n",
              "      <td>2.447410</td>\n",
              "    </tr>\n",
              "    <tr>\n",
              "      <th>2</th>\n",
              "      <td>211</td>\n",
              "      <td>-0.553305</td>\n",
              "      <td>-27.344255</td>\n",
              "      <td>-33.411983</td>\n",
              "      <td>0.689799</td>\n",
              "      <td>-11.394800</td>\n",
              "      <td>-7.378132</td>\n",
              "      <td>47.75000</td>\n",
              "      <td>0.942234</td>\n",
              "      <td>0.379171</td>\n",
              "      <td>0.388629</td>\n",
              "    </tr>\n",
              "    <tr>\n",
              "      <th>3</th>\n",
              "      <td>211</td>\n",
              "      <td>-999.000000</td>\n",
              "      <td>-999.000000</td>\n",
              "      <td>-999.000000</td>\n",
              "      <td>-0.032429</td>\n",
              "      <td>-12.332022</td>\n",
              "      <td>-8.524711</td>\n",
              "      <td>51.34375</td>\n",
              "      <td>-999.000000</td>\n",
              "      <td>0.369425</td>\n",
              "      <td>0.367349</td>\n",
              "    </tr>\n",
              "    <tr>\n",
              "      <th>4</th>\n",
              "      <td>-211</td>\n",
              "      <td>-999.000000</td>\n",
              "      <td>-999.000000</td>\n",
              "      <td>-999.000000</td>\n",
              "      <td>-0.359210</td>\n",
              "      <td>-9.399902</td>\n",
              "      <td>-4.866641</td>\n",
              "      <td>45.81250</td>\n",
              "      <td>-999.000000</td>\n",
              "      <td>0.446053</td>\n",
              "      <td>0.562155</td>\n",
              "    </tr>\n",
              "  </tbody>\n",
              "</table>\n",
              "</div>"
            ],
            "text/plain": [
              "       fTreeVariablePDGCodeTrigger  ...  fTreeVariablePtot\n",
              "entry                               ...                   \n",
              "0                              211  ...           0.670385\n",
              "1                             2212  ...           2.447410\n",
              "2                              211  ...           0.388629\n",
              "3                              211  ...           0.367349\n",
              "4                             -211  ...           0.562155\n",
              "\n",
              "[5 rows x 11 columns]"
            ]
          },
          "metadata": {
            "tags": []
          },
          "execution_count": 19
        }
      ]
    },
    {
      "cell_type": "code",
      "metadata": {
        "id": "qXtnBWxY2OMg",
        "colab_type": "code",
        "colab": {
          "base_uri": "https://localhost:8080/",
          "height": 303
        },
        "outputId": "219cc8db-3c12-4cc7-d0cd-bb1cb805b23c"
      },
      "source": [
        "PandaPionDF.plot()"
      ],
      "execution_count": null,
      "outputs": [
        {
          "output_type": "execute_result",
          "data": {
            "text/plain": [
              "<matplotlib.axes._subplots.AxesSubplot at 0x7f7c27b0d940>"
            ]
          },
          "metadata": {
            "tags": []
          },
          "execution_count": 20
        },
        {
          "output_type": "display_data",
          "data": {
            "image/png": "[encoded data removed]",
            "text/plain": [
              "<Figure size 432x288 with 1 Axes>"
            ]
          },
          "metadata": {
            "tags": [],
            "needs_background": "light"
          }
        }
      ]
    },
    {
      "cell_type": "code",
      "metadata": {
        "id": "eDIFhLDM2dvC",
        "colab_type": "code",
        "colab": {}
      },
      "source": [
        "#PandaPionDF[\"fTreeVariableTOFMass\"].value_counts()"
      ],
      "execution_count": null,
      "outputs": []
    },
    {
      "cell_type": "code",
      "metadata": {
        "id": "9AOZ0nNM9Aie",
        "colab_type": "code",
        "colab": {
          "base_uri": "https://localhost:8080/",
          "height": 204
        },
        "outputId": "1427028f-ecc8-4c2a-bd1b-d96fcb39c99c"
      },
      "source": [
        "PandaPionDF[\"fTreeVariablePDGCodeTrigger\"].value_counts()"
      ],
      "execution_count": null,
      "outputs": [
        {
          "output_type": "execute_result",
          "data": {
            "text/plain": [
              " 211     13025\n",
              "-211     12806\n",
              " 321      1064\n",
              "-321      1029\n",
              " 2212      633\n",
              "-2212      593\n",
              " 11        274\n",
              "-11        248\n",
              " 13        114\n",
              "-13        100\n",
              "Name: fTreeVariablePDGCodeTrigger, dtype: int64"
            ]
          },
          "metadata": {
            "tags": []
          },
          "execution_count": 22
        }
      ]
    },
    {
      "cell_type": "code",
      "metadata": {
        "id": "nKKtJc_u2u1d",
        "colab_type": "code",
        "colab": {
          "base_uri": "https://localhost:8080/",
          "height": 221
        },
        "outputId": "cc6c4755-6cfb-4a49-a71a-8e564e20a25d"
      },
      "source": [
        "PandaPionDF[\"fTreeVariableNSigmaTOFPion\"].value_counts()"
      ],
      "execution_count": null,
      "outputs": [
        {
          "output_type": "execute_result",
          "data": {
            "text/plain": [
              "-999.000000    20784\n",
              "-1.395882          1\n",
              "-0.572985          1\n",
              "-0.043624          1\n",
              " 0.947981          1\n",
              "               ...  \n",
              "-0.260367          1\n",
              " 0.123686          1\n",
              "-0.161435          1\n",
              "-0.611046          1\n",
              "-0.468750          1\n",
              "Name: fTreeVariableNSigmaTOFPion, Length: 9103, dtype: int64"
            ]
          },
          "metadata": {
            "tags": []
          },
          "execution_count": 23
        }
      ]
    },
    {
      "cell_type": "code",
      "metadata": {
        "id": "_6_cYjzq3Ry1",
        "colab_type": "code",
        "colab": {
          "base_uri": "https://localhost:8080/",
          "height": 286
        },
        "outputId": "38010661-dcb2-4e18-c787-da2090b73289"
      },
      "source": [
        "PandaPionDF[\"fTreeVariabledEdX\"].hist()"
      ],
      "execution_count": null,
      "outputs": [
        {
          "output_type": "execute_result",
          "data": {
            "text/plain": [
              "<matplotlib.axes._subplots.AxesSubplot at 0x7f7c2757bba8>"
            ]
          },
          "metadata": {
            "tags": []
          },
          "execution_count": 24
        },
        {
          "output_type": "display_data",
          "data": {
            "image/png": "[encoded data removed]",
            "text/plain": [
              "<Figure size 432x288 with 1 Axes>"
            ]
          },
          "metadata": {
            "tags": [],
            "needs_background": "light"
          }
        }
      ]
    },
    {
      "cell_type": "code",
      "metadata": {
        "id": "KE0Rw3HS3B2_",
        "colab_type": "code",
        "colab": {
          "base_uri": "https://localhost:8080/",
          "height": 1000
        },
        "outputId": "146d58bd-e689-4163-e694-035197e73b64"
      },
      "source": [
        "%matplotlib inline\n",
        "import matplotlib.pyplot as plt\n",
        "PandaPionDF.hist(bins=100, figsize=(15,15))\n",
        "save_fig(\"/content/gdrive/My Drive/FinalExamML/attributes_histogram_plots\")\n",
        "plt.show()"
      ],
      "execution_count": null,
      "outputs": [
        {
          "output_type": "stream",
          "text": [
            "Saving figure /content/gdrive/My Drive/FinalExamML/attributes_histogram_plots\n"
          ],
          "name": "stdout"
        },
        {
          "output_type": "display_data",
          "data": {
            "image/png": "[encoded data removed]",
            "text/plain": [
              "<Figure size 1080x1080 with 12 Axes>"
            ]
          },
          "metadata": {
            "tags": [],
            "needs_background": "light"
          }
        }
      ]
    },
    {
      "cell_type": "code",
      "metadata": {
        "id": "LMPJwgR38OTt",
        "colab_type": "code",
        "colab": {
          "base_uri": "https://localhost:8080/",
          "height": 303
        },
        "outputId": "8c434e36-d478-453c-c589-bcd97d8bbb96"
      },
      "source": [
        "PandaPionDF.plot(kind=\"scatter\", x=\"fTreeVariablePtTrigger\", y=\"fTreeVariabledEdX\", alpha=0.1)"
      ],
      "execution_count": null,
      "outputs": [
        {
          "output_type": "execute_result",
          "data": {
            "text/plain": [
              "<matplotlib.axes._subplots.AxesSubplot at 0x7f7c268f9828>"
            ]
          },
          "metadata": {
            "tags": []
          },
          "execution_count": 26
        },
        {
          "output_type": "display_data",
          "data": {
            "image/png": "[encoded data removed]",
            "text/plain": [
              "<Figure size 432x288 with 1 Axes>"
            ]
          },
          "metadata": {
            "tags": [],
            "needs_background": "light"
          }
        }
      ]
    },
    {
      "cell_type": "markdown",
      "metadata": {
        "id": "YFNnYwvm8OGH",
        "colab_type": "text"
      },
      "source": [
        ""
      ]
    },
    {
      "cell_type": "code",
      "metadata": {
        "id": "N9ZF6D283lLF",
        "colab_type": "code",
        "colab": {
          "base_uri": "https://localhost:8080/",
          "height": 466
        },
        "outputId": "d6c6e837-152c-4891-f5b7-8d94023bff43"
      },
      "source": [
        "PandaPionDF.plot(kind=\"scatter\", x=\"fTreeVariablePtTrigger\", y=\"fTreeVariabledEdX\", alpha=0.4,\n",
        "    s=PandaPionDF[\"fTreeVariableNSigmaTPCPion\"], label=\"Stopping power\", figsize=(10,7),\n",
        "    c=\"fTreeVariablePDGCodeTrigger\", cmap=plt.get_cmap(\"jet\"), colorbar=True)\n",
        "plt.legend()\n",
        "#save_fig(\"/content/gdrive/My Drive/Hands-on/housing_prices_scatterplot\")"
      ],
      "execution_count": null,
      "outputs": [
        {
          "output_type": "stream",
          "text": [
            "/usr/local/lib/python3.6/dist-packages/matplotlib/collections.py:885: RuntimeWarning: invalid value encountered in sqrt\n",
            "  scale = np.sqrt(self._sizes) * dpi / 72.0 * self._factor\n"
          ],
          "name": "stderr"
        },
        {
          "output_type": "execute_result",
          "data": {
            "text/plain": [
              "<matplotlib.legend.Legend at 0x7f7c2689d940>"
            ]
          },
          "metadata": {
            "tags": []
          },
          "execution_count": 27
        },
        {
          "output_type": "display_data",
          "data": {
            "image/png": "[encoded data removed]",
            "text/plain": [
              "<Figure size 720x504 with 2 Axes>"
            ]
          },
          "metadata": {
            "tags": [],
            "needs_background": "light"
          }
        }
      ]
    },
    {
      "cell_type": "code",
      "metadata": {
        "id": "G6cjH-6lx594",
        "colab_type": "code",
        "colab": {
          "base_uri": "https://localhost:8080/",
          "height": 935
        },
        "outputId": "a9cade60-f9f7-41c6-f59d-ee8ba97e0c84"
      },
      "source": [
        "PandaPionDF_sigPlus=PandaPionDF[PandaPionDF.fTreeVariablePDGCodeTrigger==211]\n",
        "PandaPionDF_sigMinus=PandaPionDF[PandaPionDF.fTreeVariablePDGCodeTrigger==-211]\n",
        "PandaPionDF_sigtot=PandaPionDF[(PandaPionDF.fTreeVariablePDGCodeTrigger==211) | (PandaPionDF.fTreeVariablePDGCodeTrigger==-211) ]\n",
        "PandaPionDF_bkgtot=PandaPionDF[(PandaPionDF.fTreeVariablePDGCodeTrigger!=211) & (PandaPionDF.fTreeVariablePDGCodeTrigger!=-211) ]\n",
        "#PandaPionDF_sigPlus.info()\n",
        "#PandaPionDF_sigMinus.info()\n",
        "PandaPionDF_sigtot.info()\n",
        "PandaPionDF_bkgtot.info()\n",
        "PandaPionDF.info()"
      ],
      "execution_count": null,
      "outputs": [
        {
          "output_type": "stream",
          "text": [
            "<class 'pandas.core.frame.DataFrame'>\n",
            "Int64Index: 25831 entries, 0 to 29885\n",
            "Data columns (total 11 columns):\n",
            " #   Column                        Non-Null Count  Dtype  \n",
            "---  ------                        --------------  -----  \n",
            " 0   fTreeVariablePDGCodeTrigger   25831 non-null  int32  \n",
            " 1   fTreeVariableNSigmaTOFPion    25831 non-null  float64\n",
            " 2   fTreeVariableNSigmaTOFProton  25831 non-null  float64\n",
            " 3   fTreeVariableNSigmaTOFKaon    25831 non-null  float64\n",
            " 4   fTreeVariableNSigmaTPCPion    25831 non-null  float64\n",
            " 5   fTreeVariableNSigmaTPCProton  25831 non-null  float64\n",
            " 6   fTreeVariableNSigmaTPCKaon    25831 non-null  float64\n",
            " 7   fTreeVariabledEdX             25831 non-null  float64\n",
            " 8   fTreeVariableTOFBeta          25831 non-null  float64\n",
            " 9   fTreeVariablePtTrigger        25831 non-null  float64\n",
            " 10  fTreeVariablePtot             25831 non-null  float64\n",
            "dtypes: float64(10), int32(1)\n",
            "memory usage: 2.3 MB\n",
            "<class 'pandas.core.frame.DataFrame'>\n",
            "Int64Index: 4055 entries, 1 to 29884\n",
            "Data columns (total 11 columns):\n",
            " #   Column                        Non-Null Count  Dtype  \n",
            "---  ------                        --------------  -----  \n",
            " 0   fTreeVariablePDGCodeTrigger   4055 non-null   int32  \n",
            " 1   fTreeVariableNSigmaTOFPion    4055 non-null   float64\n",
            " 2   fTreeVariableNSigmaTOFProton  4055 non-null   float64\n",
            " 3   fTreeVariableNSigmaTOFKaon    4055 non-null   float64\n",
            " 4   fTreeVariableNSigmaTPCPion    4055 non-null   float64\n",
            " 5   fTreeVariableNSigmaTPCProton  4055 non-null   float64\n",
            " 6   fTreeVariableNSigmaTPCKaon    4055 non-null   float64\n",
            " 7   fTreeVariabledEdX             4055 non-null   float64\n",
            " 8   fTreeVariableTOFBeta          4055 non-null   float64\n",
            " 9   fTreeVariablePtTrigger        4055 non-null   float64\n",
            " 10  fTreeVariablePtot             4055 non-null   float64\n",
            "dtypes: float64(10), int32(1)\n",
            "memory usage: 364.3 KB\n",
            "<class 'pandas.core.frame.DataFrame'>\n",
            "RangeIndex: 29886 entries, 0 to 29885\n",
            "Data columns (total 11 columns):\n",
            " #   Column                        Non-Null Count  Dtype  \n",
            "---  ------                        --------------  -----  \n",
            " 0   fTreeVariablePDGCodeTrigger   29886 non-null  int32  \n",
            " 1   fTreeVariableNSigmaTOFPion    29886 non-null  float64\n",
            " 2   fTreeVariableNSigmaTOFProton  29886 non-null  float64\n",
            " 3   fTreeVariableNSigmaTOFKaon    29886 non-null  float64\n",
            " 4   fTreeVariableNSigmaTPCPion    29886 non-null  float64\n",
            " 5   fTreeVariableNSigmaTPCProton  29886 non-null  float64\n",
            " 6   fTreeVariableNSigmaTPCKaon    29886 non-null  float64\n",
            " 7   fTreeVariabledEdX             29886 non-null  float64\n",
            " 8   fTreeVariableTOFBeta          29886 non-null  float64\n",
            " 9   fTreeVariablePtTrigger        29886 non-null  float64\n",
            " 10  fTreeVariablePtot             29886 non-null  float64\n",
            "dtypes: float64(10), int32(1)\n",
            "memory usage: 2.4 MB\n"
          ],
          "name": "stdout"
        }
      ]
    },
    {
      "cell_type": "code",
      "metadata": {
        "id": "Na-wC4QJRAoX",
        "colab_type": "code",
        "colab": {
          "base_uri": "https://localhost:8080/",
          "height": 102
        },
        "outputId": "a0be84db-64ef-4bf8-9282-48cfc79c7914"
      },
      "source": [
        "VarRangeMin=[-3000, -10,-10,-10, -10,-10, -10, 0, -100, 0, 0, 0]\n",
        "x=-1\n",
        "n=5\n",
        "for var in range(n):\n",
        " x+=1\n",
        " print(VarRangeMin[x])\n"
      ],
      "execution_count": null,
      "outputs": [
        {
          "output_type": "stream",
          "text": [
            "-3000\n",
            "-10\n",
            "-10\n",
            "-10\n",
            "-10\n"
          ],
          "name": "stdout"
        }
      ]
    },
    {
      "cell_type": "code",
      "metadata": {
        "id": "gUW_nInq9PZU",
        "colab_type": "code",
        "colab": {
          "base_uri": "https://localhost:8080/",
          "height": 1000
        },
        "outputId": "1f51b6d8-4e81-4a79-c72e-008d4626c5bf"
      },
      "source": [
        "import numpy as np\n",
        "VarRangeMin=[-50,-50,-50, -50,-50, -10, 0, 0, 0, 0, 0]\n",
        "VarRangeMax=[50,50,50, 50,50, 50, 200, 2, 20, 20, 5]\n",
        "#VarRangeMin=-50\n",
        "x=-1\n",
        "for var in VarNames[1:]: #this VarNames[1:] is a way to skip the first variable which is the true label\n",
        "    x+=1\n",
        "    print(var)\n",
        "    print(VarRangeMin[x])\n",
        "    plt.figure()\n",
        "    plt.hist(np.array(PandaPionDF_bkgtot[var]),bins=100,range=(VarRangeMin[x],VarRangeMax[x]),histtype=\"step\", color=\"red\",label=\"background\")\n",
        "    plt.hist(np.array(PandaPionDF_sigtot[var]),bins=100,range=(VarRangeMin[x],VarRangeMax[x]),histtype=\"step\", color=\"blue\", label=\"signal\")\n",
        "    #plt.hist(np.array(PandaPionDF_bkgtot[var]),bins=100,range=(-50,50),histtype=\"step\", color=\"red\",label=\"background\")\n",
        "    #plt.hist(np.array(PandaPionDF_sigtot[var]),bins=100,range=(-50,50),histtype=\"step\", color=\"blue\", label=\"signal\")\n",
        "    plt.legend(loc='upper right')\n",
        "    plt.show()\n",
        "\n",
        "#Question: how to normalise the distributions?\n",
        "#Question: do you remember how to add labels to the axis?"
      ],
      "execution_count": null,
      "outputs": [
        {
          "output_type": "stream",
          "text": [
            "fTreeVariableNSigmaTOFPion\n",
            "-50\n"
          ],
          "name": "stdout"
        },
        {
          "output_type": "display_data",
          "data": {
            "image/png": "[encoded data removed]",
            "text/plain": [
              "<Figure size 432x288 with 1 Axes>"
            ]
          },
          "metadata": {
            "tags": [],
            "needs_background": "light"
          }
        },
        {
          "output_type": "stream",
          "text": [
            "fTreeVariableNSigmaTOFProton\n",
            "-50\n"
          ],
          "name": "stdout"
        },
        {
          "output_type": "display_data",
          "data": {
            "image/png": "[encoded data removed]",
            "text/plain": [
              "<Figure size 432x288 with 1 Axes>"
            ]
          },
          "metadata": {
            "tags": [],
            "needs_background": "light"
          }
        },
        {
          "output_type": "stream",
          "text": [
            "fTreeVariableNSigmaTOFKaon\n",
            "-50\n"
          ],
          "name": "stdout"
        },
        {
          "output_type": "display_data",
          "data": {
            "image/png": "[encoded data removed]",
            "text/plain": [
              "<Figure size 432x288 with 1 Axes>"
            ]
          },
          "metadata": {
            "tags": [],
            "needs_background": "light"
          }
        },
        {
          "output_type": "stream",
          "text": [
            "fTreeVariableNSigmaTPCPion\n",
            "-50\n"
          ],
          "name": "stdout"
        },
        {
          "output_type": "display_data",
          "data": {
            "image/png": "[encoded data removed]",
            "text/plain": [
              "<Figure size 432x288 with 1 Axes>"
            ]
          },
          "metadata": {
            "tags": [],
            "needs_background": "light"
          }
        },
        {
          "output_type": "stream",
          "text": [
            "fTreeVariableNSigmaTPCProton\n",
            "-50\n"
          ],
          "name": "stdout"
        },
        {
          "output_type": "display_data",
          "data": {
            "image/png": "[encoded data removed]",
            "text/plain": [
              "<Figure size 432x288 with 1 Axes>"
            ]
          },
          "metadata": {
            "tags": [],
            "needs_background": "light"
          }
        },
        {
          "output_type": "stream",
          "text": [
            "fTreeVariableNSigmaTPCKaon\n",
            "-10\n"
          ],
          "name": "stdout"
        },
        {
          "output_type": "display_data",
          "data": {
            "image/png": "[encoded data removed]",
            "text/plain": [
              "<Figure size 432x288 with 1 Axes>"
            ]
          },
          "metadata": {
            "tags": [],
            "needs_background": "light"
          }
        },
        {
          "output_type": "stream",
          "text": [
            "fTreeVariabledEdX\n",
            "0\n"
          ],
          "name": "stdout"
        },
        {
          "output_type": "display_data",
          "data": {
            "image/png": "[encoded data removed]",
            "text/plain": [
              "<Figure size 432x288 with 1 Axes>"
            ]
          },
          "metadata": {
            "tags": [],
            "needs_background": "light"
          }
        },
        {
          "output_type": "stream",
          "text": [
            "fTreeVariableTOFBeta\n",
            "0\n"
          ],
          "name": "stdout"
        },
        {
          "output_type": "display_data",
          "data": {
            "image/png": "[encoded data removed]",
            "text/plain": [
              "<Figure size 432x288 with 1 Axes>"
            ]
          },
          "metadata": {
            "tags": [],
            "needs_background": "light"
          }
        },
        {
          "output_type": "stream",
          "text": [
            "fTreeVariablePtTrigger\n",
            "0\n"
          ],
          "name": "stdout"
        },
        {
          "output_type": "display_data",
          "data": {
            "image/png": "[encoded data removed]",
            "text/plain": [
              "<Figure size 432x288 with 1 Axes>"
            ]
          },
          "metadata": {
            "tags": [],
            "needs_background": "light"
          }
        },
        {
          "output_type": "stream",
          "text": [
            "fTreeVariablePtot\n",
            "0\n"
          ],
          "name": "stdout"
        },
        {
          "output_type": "display_data",
          "data": {
            "image/png": "[encoded data removed]",
            "text/plain": [
              "<Figure size 432x288 with 1 Axes>"
            ]
          },
          "metadata": {
            "tags": [],
            "needs_background": "light"
          }
        }
      ]
    },
    {
      "cell_type": "markdown",
      "metadata": {
        "id": "fjNFyskwVfYa",
        "colab_type": "text"
      },
      "source": [
        "### **Training and testing**"
      ]
    },
    {
      "cell_type": "code",
      "metadata": {
        "id": "dgzNudp2N79O",
        "colab_type": "code",
        "colab": {}
      },
      "source": [
        "#from sklearn.preprocessing import OrdinalEncoder\n",
        "\n",
        "#Y_PandaPionDF = PandaPionDF[[\"fTreeVariablePDGCodeTrigger\"]]\n",
        "#ordinal_encoder = OrdinalEncoder()\n",
        "#Y_PandaPionDF_encoded = ordinal_encoder.fit_transform(Y_PandaPionDF)\n",
        "#Y_PandaPionDF[:10]\n",
        "#Y_PandaPionDF_encoded[:10]\n"
      ],
      "execution_count": null,
      "outputs": []
    },
    {
      "cell_type": "code",
      "metadata": {
        "id": "UDZK7uLJk-37",
        "colab_type": "code",
        "colab": {
          "base_uri": "https://localhost:8080/",
          "height": 317
        },
        "outputId": "b6a52b1b-c13a-4b96-acdd-653343cbd8f9"
      },
      "source": [
        "fnames = {211: 1, -211: 1, 2212: 0, -2212:0, 11: 0, -11:0, 13: 0, -13:0 , 321: 0, -321:0}\n",
        "PandaPionDFTry1['fTreeVariablePDGCodeTrigger'] = PandaPionDF['fTreeVariablePDGCodeTrigger'].map(fnames)\n",
        "PandaPionDFTry1.head()\n",
        "PandaPionDFTry1.describe()"
      ],
      "execution_count": null,
      "outputs": [
        {
          "output_type": "execute_result",
          "data": {
            "text/html": [
              "<div>\n",
              "<style scoped>\n",
              "    .dataframe tbody tr th:only-of-type {\n",
              "        vertical-align: middle;\n",
              "    }\n",
              "\n",
              "    .dataframe tbody tr th {\n",
              "        vertical-align: top;\n",
              "    }\n",
              "\n",
              "    .dataframe thead th {\n",
              "        text-align: right;\n",
              "    }\n",
              "</style>\n",
              "<table border=\"1\" class=\"dataframe\">\n",
              "  <thead>\n",
              "    <tr style=\"text-align: right;\">\n",
              "      <th></th>\n",
              "      <th>fTreeVariablePDGCodeTrigger</th>\n",
              "      <th>fTreeVariableNSigmaTOFPion</th>\n",
              "      <th>fTreeVariableNSigmaTOFProton</th>\n",
              "      <th>fTreeVariableNSigmaTOFKaon</th>\n",
              "      <th>fTreeVariableNSigmaTPCPion</th>\n",
              "      <th>fTreeVariableNSigmaTPCProton</th>\n",
              "      <th>fTreeVariableNSigmaTPCKaon</th>\n",
              "      <th>fTreeVariabledEdX</th>\n",
              "      <th>fTreeVariableTOFBeta</th>\n",
              "      <th>fTreeVariablePtTrigger</th>\n",
              "      <th>fTreeVariablePtot</th>\n",
              "    </tr>\n",
              "  </thead>\n",
              "  <tbody>\n",
              "    <tr>\n",
              "      <th>count</th>\n",
              "      <td>29886.000000</td>\n",
              "      <td>29886.000000</td>\n",
              "      <td>29886.000000</td>\n",
              "      <td>29886.000000</td>\n",
              "      <td>29886.000000</td>\n",
              "      <td>29886.000000</td>\n",
              "      <td>29886.000000</td>\n",
              "      <td>29886.000000</td>\n",
              "      <td>29886.000000</td>\n",
              "      <td>29886.000000</td>\n",
              "      <td>29886.000000</td>\n",
              "    </tr>\n",
              "    <tr>\n",
              "      <th>mean</th>\n",
              "      <td>0.864318</td>\n",
              "      <td>-691.978429</td>\n",
              "      <td>-702.733083</td>\n",
              "      <td>-699.022504</td>\n",
              "      <td>0.962169</td>\n",
              "      <td>-8.064070</td>\n",
              "      <td>-4.049363</td>\n",
              "      <td>55.557713</td>\n",
              "      <td>-694.454808</td>\n",
              "      <td>0.689646</td>\n",
              "      <td>0.798664</td>\n",
              "    </tr>\n",
              "    <tr>\n",
              "      <th>std</th>\n",
              "      <td>0.342457</td>\n",
              "      <td>468.556713</td>\n",
              "      <td>448.616604</td>\n",
              "      <td>456.007426</td>\n",
              "      <td>12.408893</td>\n",
              "      <td>10.953616</td>\n",
              "      <td>11.248198</td>\n",
              "      <td>25.783751</td>\n",
              "      <td>460.209062</td>\n",
              "      <td>0.612956</td>\n",
              "      <td>0.739125</td>\n",
              "    </tr>\n",
              "    <tr>\n",
              "      <th>min</th>\n",
              "      <td>0.000000</td>\n",
              "      <td>-999.000000</td>\n",
              "      <td>-999.000000</td>\n",
              "      <td>-999.000000</td>\n",
              "      <td>-999.000000</td>\n",
              "      <td>-999.000000</td>\n",
              "      <td>-999.000000</td>\n",
              "      <td>0.000000</td>\n",
              "      <td>-999.000000</td>\n",
              "      <td>0.134207</td>\n",
              "      <td>0.118804</td>\n",
              "    </tr>\n",
              "    <tr>\n",
              "      <th>25%</th>\n",
              "      <td>1.000000</td>\n",
              "      <td>-999.000000</td>\n",
              "      <td>-999.000000</td>\n",
              "      <td>-999.000000</td>\n",
              "      <td>-0.689037</td>\n",
              "      <td>-11.808264</td>\n",
              "      <td>-8.294208</td>\n",
              "      <td>48.187500</td>\n",
              "      <td>-999.000000</td>\n",
              "      <td>0.324390</td>\n",
              "      <td>0.363637</td>\n",
              "    </tr>\n",
              "    <tr>\n",
              "      <th>50%</th>\n",
              "      <td>1.000000</td>\n",
              "      <td>-999.000000</td>\n",
              "      <td>-999.000000</td>\n",
              "      <td>-999.000000</td>\n",
              "      <td>0.058235</td>\n",
              "      <td>-9.476601</td>\n",
              "      <td>-4.296030</td>\n",
              "      <td>51.062500</td>\n",
              "      <td>-999.000000</td>\n",
              "      <td>0.511089</td>\n",
              "      <td>0.583915</td>\n",
              "    </tr>\n",
              "    <tr>\n",
              "      <th>75%</th>\n",
              "      <td>1.000000</td>\n",
              "      <td>-0.841192</td>\n",
              "      <td>-36.153902</td>\n",
              "      <td>-33.377750</td>\n",
              "      <td>0.857522</td>\n",
              "      <td>-5.001413</td>\n",
              "      <td>-0.333522</td>\n",
              "      <td>55.218750</td>\n",
              "      <td>0.949243</td>\n",
              "      <td>0.832866</td>\n",
              "      <td>0.958753</td>\n",
              "    </tr>\n",
              "    <tr>\n",
              "      <th>max</th>\n",
              "      <td>1.000000</td>\n",
              "      <td>4169.488770</td>\n",
              "      <td>2629.593018</td>\n",
              "      <td>3698.128906</td>\n",
              "      <td>193.287811</td>\n",
              "      <td>12.716328</td>\n",
              "      <td>35.669773</td>\n",
              "      <td>908.000000</td>\n",
              "      <td>1.205457</td>\n",
              "      <td>16.570082</td>\n",
              "      <td>15.016760</td>\n",
              "    </tr>\n",
              "  </tbody>\n",
              "</table>\n",
              "</div>"
            ],
            "text/plain": [
              "       fTreeVariablePDGCodeTrigger  ...  fTreeVariablePtot\n",
              "count                 29886.000000  ...       29886.000000\n",
              "mean                      0.864318  ...           0.798664\n",
              "std                       0.342457  ...           0.739125\n",
              "min                       0.000000  ...           0.118804\n",
              "25%                       1.000000  ...           0.363637\n",
              "50%                       1.000000  ...           0.583915\n",
              "75%                       1.000000  ...           0.958753\n",
              "max                       1.000000  ...          15.016760\n",
              "\n",
              "[8 rows x 11 columns]"
            ]
          },
          "metadata": {
            "tags": []
          },
          "execution_count": 32
        }
      ]
    },
    {
      "cell_type": "code",
      "metadata": {
        "id": "UiBYmi9U4EL0",
        "colab_type": "code",
        "colab": {}
      },
      "source": [
        "#@title\n",
        "N_Train=25000\n",
        "\n",
        "Train_Sample=PandaPionDFTry1[:N_Train]\n",
        "Test_Sample=PandaPionDFTry1[N_Train:]\n",
        "\n",
        "X_Train=Train_Sample[VarNames[1:]]\n",
        "y_Train=Train_Sample[\"fTreeVariablePDGCodeTrigger\"]\n",
        "\n",
        "X_Test=Test_Sample[VarNames[1:]]\n",
        "y_Test=Test_Sample[\"fTreeVariablePDGCodeTrigger\"]\n",
        "\n",
        "# do you understand what's happening in the following two lines?\n",
        "Test_sig=Test_Sample[(Test_Sample.fTreeVariablePDGCodeTrigger==211) | (Test_Sample.fTreeVariablePDGCodeTrigger==-211)]\n",
        "Test_bkg=Test_Sample[(Test_Sample.fTreeVariablePDGCodeTrigger!=211) & (Test_Sample.fTreeVariablePDGCodeTrigger!=-211)]"
      ],
      "execution_count": null,
      "outputs": []
    },
    {
      "cell_type": "code",
      "metadata": {
        "id": "Y-gk-khnXqhW",
        "colab_type": "code",
        "colab": {
          "base_uri": "https://localhost:8080/",
          "height": 170
        },
        "outputId": "1fe455a0-b6ee-4e14-a2cc-8c1752a489bb"
      },
      "source": [
        "\n",
        "y_Train.describe()"
      ],
      "execution_count": null,
      "outputs": [
        {
          "output_type": "execute_result",
          "data": {
            "text/plain": [
              "count    25000.000000\n",
              "mean         0.863680\n",
              "std          0.343135\n",
              "min          0.000000\n",
              "25%          1.000000\n",
              "50%          1.000000\n",
              "75%          1.000000\n",
              "max          1.000000\n",
              "Name: fTreeVariablePDGCodeTrigger, dtype: float64"
            ]
          },
          "metadata": {
            "tags": []
          },
          "execution_count": 34
        }
      ]
    },
    {
      "cell_type": "code",
      "metadata": {
        "id": "QtWiy_ULQIWu",
        "colab_type": "code",
        "colab": {
          "base_uri": "https://localhost:8080/",
          "height": 85
        },
        "outputId": "f4149210-bf72-40e2-f9e9-ce2856e75a54"
      },
      "source": [
        "#I don't understand how this works\n",
        "def func(x):\n",
        "  #if (x==211 | x==-211):\n",
        "  if (x > 0):\n",
        "#  if x in [211, -211]:\n",
        "   print('x>0')\n",
        "   print(x)\n",
        "   return lambda x: 1\n",
        "  else :\n",
        "   print(x)\n",
        "   return lambda x: 0\n",
        "\n",
        "y_Train_transf = y_Train.transform(func(x))\n",
        "y_Test_transf = y_Test.transform(func(x))\n"
      ],
      "execution_count": null,
      "outputs": [
        {
          "output_type": "stream",
          "text": [
            "x>0\n",
            "9\n",
            "x>0\n",
            "9\n"
          ],
          "name": "stdout"
        }
      ]
    },
    {
      "cell_type": "code",
      "metadata": {
        "id": "yTX2KQwnjawM",
        "colab_type": "code",
        "colab": {
          "base_uri": "https://localhost:8080/",
          "height": 170
        },
        "outputId": "ca159ca6-c6c0-4a80-b1be-23744f1b15f4"
      },
      "source": [
        "y_Train_transf.describe()"
      ],
      "execution_count": null,
      "outputs": [
        {
          "output_type": "execute_result",
          "data": {
            "text/plain": [
              "count    25000.0\n",
              "mean         1.0\n",
              "std          0.0\n",
              "min          1.0\n",
              "25%          1.0\n",
              "50%          1.0\n",
              "75%          1.0\n",
              "max          1.0\n",
              "Name: fTreeVariablePDGCodeTrigger, dtype: float64"
            ]
          },
          "metadata": {
            "tags": []
          },
          "execution_count": 36
        }
      ]
    },
    {
      "cell_type": "code",
      "metadata": {
        "id": "BkqhLAK7WR_4",
        "colab_type": "code",
        "colab": {
          "base_uri": "https://localhost:8080/",
          "height": 306
        },
        "outputId": "f937b7c1-23d8-4c46-d366-6886aa31ed8e"
      },
      "source": [
        "X_Train.info()"
      ],
      "execution_count": null,
      "outputs": [
        {
          "output_type": "stream",
          "text": [
            "<class 'pandas.core.frame.DataFrame'>\n",
            "RangeIndex: 25000 entries, 0 to 24999\n",
            "Data columns (total 10 columns):\n",
            " #   Column                        Non-Null Count  Dtype  \n",
            "---  ------                        --------------  -----  \n",
            " 0   fTreeVariableNSigmaTOFPion    25000 non-null  float64\n",
            " 1   fTreeVariableNSigmaTOFProton  25000 non-null  float64\n",
            " 2   fTreeVariableNSigmaTOFKaon    25000 non-null  float64\n",
            " 3   fTreeVariableNSigmaTPCPion    25000 non-null  float64\n",
            " 4   fTreeVariableNSigmaTPCProton  25000 non-null  float64\n",
            " 5   fTreeVariableNSigmaTPCKaon    25000 non-null  float64\n",
            " 6   fTreeVariabledEdX             25000 non-null  float64\n",
            " 7   fTreeVariableTOFBeta          25000 non-null  float64\n",
            " 8   fTreeVariablePtTrigger        25000 non-null  float64\n",
            " 9   fTreeVariablePtot             25000 non-null  float64\n",
            "dtypes: float64(10)\n",
            "memory usage: 1.9 MB\n"
          ],
          "name": "stdout"
        }
      ]
    },
    {
      "cell_type": "code",
      "metadata": {
        "id": "gowfa5SrW4Cy",
        "colab_type": "code",
        "colab": {
          "base_uri": "https://localhost:8080/",
          "height": 306
        },
        "outputId": "52dbad4e-de37-4dc3-897e-74e49f4614ca"
      },
      "source": [
        "X_Test.info()"
      ],
      "execution_count": null,
      "outputs": [
        {
          "output_type": "stream",
          "text": [
            "<class 'pandas.core.frame.DataFrame'>\n",
            "RangeIndex: 4886 entries, 25000 to 29885\n",
            "Data columns (total 10 columns):\n",
            " #   Column                        Non-Null Count  Dtype  \n",
            "---  ------                        --------------  -----  \n",
            " 0   fTreeVariableNSigmaTOFPion    4886 non-null   float64\n",
            " 1   fTreeVariableNSigmaTOFProton  4886 non-null   float64\n",
            " 2   fTreeVariableNSigmaTOFKaon    4886 non-null   float64\n",
            " 3   fTreeVariableNSigmaTPCPion    4886 non-null   float64\n",
            " 4   fTreeVariableNSigmaTPCProton  4886 non-null   float64\n",
            " 5   fTreeVariableNSigmaTPCKaon    4886 non-null   float64\n",
            " 6   fTreeVariabledEdX             4886 non-null   float64\n",
            " 7   fTreeVariableTOFBeta          4886 non-null   float64\n",
            " 8   fTreeVariablePtTrigger        4886 non-null   float64\n",
            " 9   fTreeVariablePtot             4886 non-null   float64\n",
            "dtypes: float64(10)\n",
            "memory usage: 381.8 KB\n"
          ],
          "name": "stdout"
        }
      ]
    },
    {
      "cell_type": "code",
      "metadata": {
        "id": "6K1HnexiXREf",
        "colab_type": "code",
        "colab": {
          "base_uri": "https://localhost:8080/",
          "height": 136
        },
        "outputId": "a2298889-6f09-4c21-a4ad-8a75c5c90d70"
      },
      "source": [
        "y_Test.head()"
      ],
      "execution_count": null,
      "outputs": [
        {
          "output_type": "execute_result",
          "data": {
            "text/plain": [
              "entry\n",
              "25000    1\n",
              "25001    1\n",
              "25002    1\n",
              "25003    1\n",
              "25004    1\n",
              "Name: fTreeVariablePDGCodeTrigger, dtype: int64"
            ]
          },
          "metadata": {
            "tags": []
          },
          "execution_count": 39
        }
      ]
    },
    {
      "cell_type": "code",
      "metadata": {
        "id": "O5l5U6aXXT2Z",
        "colab_type": "code",
        "colab": {
          "base_uri": "https://localhost:8080/",
          "height": 170
        },
        "outputId": "e962c00b-daa1-4bc0-e072-a50b6e26d5d0"
      },
      "source": [
        "y_Test.describe()"
      ],
      "execution_count": null,
      "outputs": [
        {
          "output_type": "execute_result",
          "data": {
            "text/plain": [
              "count    4886.000000\n",
              "mean        0.867581\n",
              "std         0.338981\n",
              "min         0.000000\n",
              "25%         1.000000\n",
              "50%         1.000000\n",
              "75%         1.000000\n",
              "max         1.000000\n",
              "Name: fTreeVariablePDGCodeTrigger, dtype: float64"
            ]
          },
          "metadata": {
            "tags": []
          },
          "execution_count": 40
        }
      ]
    },
    {
      "cell_type": "code",
      "metadata": {
        "id": "tvczRPgPrB8Y",
        "colab_type": "code",
        "colab": {
          "base_uri": "https://localhost:8080/",
          "height": 68
        },
        "outputId": "930ca4f8-31bd-4aa6-f19b-cd076f659fc3"
      },
      "source": [
        "y_Test.value_counts()"
      ],
      "execution_count": null,
      "outputs": [
        {
          "output_type": "execute_result",
          "data": {
            "text/plain": [
              "1    4239\n",
              "0     647\n",
              "Name: fTreeVariablePDGCodeTrigger, dtype: int64"
            ]
          },
          "metadata": {
            "tags": []
          },
          "execution_count": 41
        }
      ]
    },
    {
      "cell_type": "code",
      "metadata": {
        "id": "kgeT6d2DXaVN",
        "colab_type": "code",
        "colab": {
          "base_uri": "https://localhost:8080/",
          "height": 88
        },
        "outputId": "8c0ae65a-2f3a-4e92-9c77-33d09effd434"
      },
      "source": [
        "print(Test_sig)"
      ],
      "execution_count": null,
      "outputs": [
        {
          "output_type": "stream",
          "text": [
            "Empty DataFrame\n",
            "Columns: [fTreeVariablePDGCodeTrigger, fTreeVariableNSigmaTOFPion, fTreeVariableNSigmaTOFProton, fTreeVariableNSigmaTOFKaon, fTreeVariableNSigmaTPCPion, fTreeVariableNSigmaTPCProton, fTreeVariableNSigmaTPCKaon, fTreeVariabledEdX, fTreeVariableTOFBeta, fTreeVariablePtTrigger, fTreeVariablePtot]\n",
            "Index: []\n"
          ],
          "name": "stdout"
        }
      ]
    },
    {
      "cell_type": "code",
      "metadata": {
        "id": "YZdhfU6-XpAm",
        "colab_type": "code",
        "colab": {
          "base_uri": "https://localhost:8080/",
          "height": 323
        },
        "outputId": "a648dbf5-0b43-40d0-8131-a7aad80b2ada"
      },
      "source": [
        "Test_sig.info()"
      ],
      "execution_count": null,
      "outputs": [
        {
          "output_type": "stream",
          "text": [
            "<class 'pandas.core.frame.DataFrame'>\n",
            "Int64Index: 0 entries\n",
            "Data columns (total 11 columns):\n",
            " #   Column                        Non-Null Count  Dtype  \n",
            "---  ------                        --------------  -----  \n",
            " 0   fTreeVariablePDGCodeTrigger   0 non-null      int64  \n",
            " 1   fTreeVariableNSigmaTOFPion    0 non-null      float64\n",
            " 2   fTreeVariableNSigmaTOFProton  0 non-null      float64\n",
            " 3   fTreeVariableNSigmaTOFKaon    0 non-null      float64\n",
            " 4   fTreeVariableNSigmaTPCPion    0 non-null      float64\n",
            " 5   fTreeVariableNSigmaTPCProton  0 non-null      float64\n",
            " 6   fTreeVariableNSigmaTPCKaon    0 non-null      float64\n",
            " 7   fTreeVariabledEdX             0 non-null      float64\n",
            " 8   fTreeVariableTOFBeta          0 non-null      float64\n",
            " 9   fTreeVariablePtTrigger        0 non-null      float64\n",
            " 10  fTreeVariablePtot             0 non-null      float64\n",
            "dtypes: float64(10), int64(1)\n",
            "memory usage: 0.0 bytes\n"
          ],
          "name": "stdout"
        }
      ]
    },
    {
      "cell_type": "code",
      "metadata": {
        "id": "VpCyBuv3XvtK",
        "colab_type": "code",
        "colab": {
          "base_uri": "https://localhost:8080/",
          "height": 323
        },
        "outputId": "d34c7ff3-6405-4d03-cfe1-9f45bb5b8b85"
      },
      "source": [
        "Test_bkg.info()"
      ],
      "execution_count": null,
      "outputs": [
        {
          "output_type": "stream",
          "text": [
            "<class 'pandas.core.frame.DataFrame'>\n",
            "Int64Index: 4886 entries, 25000 to 29885\n",
            "Data columns (total 11 columns):\n",
            " #   Column                        Non-Null Count  Dtype  \n",
            "---  ------                        --------------  -----  \n",
            " 0   fTreeVariablePDGCodeTrigger   4886 non-null   int64  \n",
            " 1   fTreeVariableNSigmaTOFPion    4886 non-null   float64\n",
            " 2   fTreeVariableNSigmaTOFProton  4886 non-null   float64\n",
            " 3   fTreeVariableNSigmaTOFKaon    4886 non-null   float64\n",
            " 4   fTreeVariableNSigmaTPCPion    4886 non-null   float64\n",
            " 5   fTreeVariableNSigmaTPCProton  4886 non-null   float64\n",
            " 6   fTreeVariableNSigmaTPCKaon    4886 non-null   float64\n",
            " 7   fTreeVariabledEdX             4886 non-null   float64\n",
            " 8   fTreeVariableTOFBeta          4886 non-null   float64\n",
            " 9   fTreeVariablePtTrigger        4886 non-null   float64\n",
            " 10  fTreeVariablePtot             4886 non-null   float64\n",
            "dtypes: float64(10), int64(1)\n",
            "memory usage: 458.1 KB\n"
          ],
          "name": "stdout"
        }
      ]
    },
    {
      "cell_type": "code",
      "metadata": {
        "id": "ChVowFIWYoyI",
        "colab_type": "code",
        "colab": {
          "base_uri": "https://localhost:8080/",
          "height": 317
        },
        "outputId": "5efca082-711d-44c5-a107-311d9b557a7e"
      },
      "source": [
        "X_Train.describe()"
      ],
      "execution_count": null,
      "outputs": [
        {
          "output_type": "execute_result",
          "data": {
            "text/html": [
              "<div>\n",
              "<style scoped>\n",
              "    .dataframe tbody tr th:only-of-type {\n",
              "        vertical-align: middle;\n",
              "    }\n",
              "\n",
              "    .dataframe tbody tr th {\n",
              "        vertical-align: top;\n",
              "    }\n",
              "\n",
              "    .dataframe thead th {\n",
              "        text-align: right;\n",
              "    }\n",
              "</style>\n",
              "<table border=\"1\" class=\"dataframe\">\n",
              "  <thead>\n",
              "    <tr style=\"text-align: right;\">\n",
              "      <th></th>\n",
              "      <th>fTreeVariableNSigmaTOFPion</th>\n",
              "      <th>fTreeVariableNSigmaTOFProton</th>\n",
              "      <th>fTreeVariableNSigmaTOFKaon</th>\n",
              "      <th>fTreeVariableNSigmaTPCPion</th>\n",
              "      <th>fTreeVariableNSigmaTPCProton</th>\n",
              "      <th>fTreeVariableNSigmaTPCKaon</th>\n",
              "      <th>fTreeVariabledEdX</th>\n",
              "      <th>fTreeVariableTOFBeta</th>\n",
              "      <th>fTreeVariablePtTrigger</th>\n",
              "      <th>fTreeVariablePtot</th>\n",
              "    </tr>\n",
              "  </thead>\n",
              "  <tbody>\n",
              "    <tr>\n",
              "      <th>count</th>\n",
              "      <td>25000.000000</td>\n",
              "      <td>25000.000000</td>\n",
              "      <td>25000.000000</td>\n",
              "      <td>25000.000000</td>\n",
              "      <td>25000.000000</td>\n",
              "      <td>25000.000000</td>\n",
              "      <td>25000.000000</td>\n",
              "      <td>25000.000000</td>\n",
              "      <td>25000.000000</td>\n",
              "      <td>25000.000000</td>\n",
              "    </tr>\n",
              "    <tr>\n",
              "      <th>mean</th>\n",
              "      <td>-692.144013</td>\n",
              "      <td>-703.080572</td>\n",
              "      <td>-699.259678</td>\n",
              "      <td>0.961772</td>\n",
              "      <td>-8.075364</td>\n",
              "      <td>-4.058613</td>\n",
              "      <td>55.585401</td>\n",
              "      <td>-694.932322</td>\n",
              "      <td>0.690509</td>\n",
              "      <td>0.799454</td>\n",
              "    </tr>\n",
              "    <tr>\n",
              "      <th>std</th>\n",
              "      <td>469.702913</td>\n",
              "      <td>448.762597</td>\n",
              "      <td>456.660967</td>\n",
              "      <td>13.257815</td>\n",
              "      <td>11.803192</td>\n",
              "      <td>12.093494</td>\n",
              "      <td>26.156489</td>\n",
              "      <td>460.007250</td>\n",
              "      <td>0.616540</td>\n",
              "      <td>0.742045</td>\n",
              "    </tr>\n",
              "    <tr>\n",
              "      <th>min</th>\n",
              "      <td>-999.000000</td>\n",
              "      <td>-999.000000</td>\n",
              "      <td>-999.000000</td>\n",
              "      <td>-999.000000</td>\n",
              "      <td>-999.000000</td>\n",
              "      <td>-999.000000</td>\n",
              "      <td>0.000000</td>\n",
              "      <td>-999.000000</td>\n",
              "      <td>0.134207</td>\n",
              "      <td>0.118804</td>\n",
              "    </tr>\n",
              "    <tr>\n",
              "      <th>25%</th>\n",
              "      <td>-999.000000</td>\n",
              "      <td>-999.000000</td>\n",
              "      <td>-999.000000</td>\n",
              "      <td>-0.691092</td>\n",
              "      <td>-11.808366</td>\n",
              "      <td>-8.320396</td>\n",
              "      <td>48.187500</td>\n",
              "      <td>-999.000000</td>\n",
              "      <td>0.323819</td>\n",
              "      <td>0.362983</td>\n",
              "    </tr>\n",
              "    <tr>\n",
              "      <th>50%</th>\n",
              "      <td>-999.000000</td>\n",
              "      <td>-999.000000</td>\n",
              "      <td>-999.000000</td>\n",
              "      <td>0.059749</td>\n",
              "      <td>-9.476200</td>\n",
              "      <td>-4.291474</td>\n",
              "      <td>51.062500</td>\n",
              "      <td>-999.000000</td>\n",
              "      <td>0.512245</td>\n",
              "      <td>0.584125</td>\n",
              "    </tr>\n",
              "    <tr>\n",
              "      <th>75%</th>\n",
              "      <td>-0.867423</td>\n",
              "      <td>-36.146825</td>\n",
              "      <td>-33.324677</td>\n",
              "      <td>0.860006</td>\n",
              "      <td>-4.976694</td>\n",
              "      <td>-0.330226</td>\n",
              "      <td>55.218750</td>\n",
              "      <td>0.948616</td>\n",
              "      <td>0.833880</td>\n",
              "      <td>0.960217</td>\n",
              "    </tr>\n",
              "    <tr>\n",
              "      <th>max</th>\n",
              "      <td>4169.488770</td>\n",
              "      <td>2629.593018</td>\n",
              "      <td>3698.128906</td>\n",
              "      <td>193.287811</td>\n",
              "      <td>12.716328</td>\n",
              "      <td>35.669773</td>\n",
              "      <td>908.000000</td>\n",
              "      <td>1.205457</td>\n",
              "      <td>16.570082</td>\n",
              "      <td>15.016760</td>\n",
              "    </tr>\n",
              "  </tbody>\n",
              "</table>\n",
              "</div>"
            ],
            "text/plain": [
              "       fTreeVariableNSigmaTOFPion  ...  fTreeVariablePtot\n",
              "count                25000.000000  ...       25000.000000\n",
              "mean                  -692.144013  ...           0.799454\n",
              "std                    469.702913  ...           0.742045\n",
              "min                   -999.000000  ...           0.118804\n",
              "25%                   -999.000000  ...           0.362983\n",
              "50%                   -999.000000  ...           0.584125\n",
              "75%                     -0.867423  ...           0.960217\n",
              "max                   4169.488770  ...          15.016760\n",
              "\n",
              "[8 rows x 10 columns]"
            ]
          },
          "metadata": {
            "tags": []
          },
          "execution_count": 45
        }
      ]
    },
    {
      "cell_type": "code",
      "metadata": {
        "id": "Dt9Ew-XbUMER",
        "colab_type": "code",
        "colab": {
          "base_uri": "https://localhost:8080/",
          "height": 170
        },
        "outputId": "90a5b453-b24d-4fb9-bfdf-22af9714bf1a"
      },
      "source": [
        "y_Test_transf.describe()"
      ],
      "execution_count": null,
      "outputs": [
        {
          "output_type": "execute_result",
          "data": {
            "text/plain": [
              "count    4886.0\n",
              "mean        1.0\n",
              "std         0.0\n",
              "min         1.0\n",
              "25%         1.0\n",
              "50%         1.0\n",
              "75%         1.0\n",
              "max         1.0\n",
              "Name: fTreeVariablePDGCodeTrigger, dtype: float64"
            ]
          },
          "metadata": {
            "tags": []
          },
          "execution_count": 46
        }
      ]
    },
    {
      "cell_type": "code",
      "metadata": {
        "id": "REuzsdzmUcaW",
        "colab_type": "code",
        "colab": {
          "base_uri": "https://localhost:8080/",
          "height": 170
        },
        "outputId": "73dc375c-9c1e-492d-e352-25a21b49cb62"
      },
      "source": [
        "y_Train_transf.describe()"
      ],
      "execution_count": null,
      "outputs": [
        {
          "output_type": "execute_result",
          "data": {
            "text/plain": [
              "count    25000.0\n",
              "mean         1.0\n",
              "std          0.0\n",
              "min          1.0\n",
              "25%          1.0\n",
              "50%          1.0\n",
              "75%          1.0\n",
              "max          1.0\n",
              "Name: fTreeVariablePDGCodeTrigger, dtype: float64"
            ]
          },
          "metadata": {
            "tags": []
          },
          "execution_count": 47
        }
      ]
    },
    {
      "cell_type": "markdown",
      "metadata": {
        "id": "_n4ZxjD-YHt1",
        "colab_type": "text"
      },
      "source": [
        "# Fisher discriminant"
      ]
    },
    {
      "cell_type": "code",
      "metadata": {
        "id": "Dc0f_pUtXynH",
        "colab_type": "code",
        "colab": {
          "base_uri": "https://localhost:8080/",
          "height": 51
        },
        "outputId": "04da8ed7-ab4e-4b74-df7a-49980ba93b2f"
      },
      "source": [
        "import sklearn.discriminant_analysis as DA\n",
        "Fisher=DA.LinearDiscriminantAnalysis()\n",
        "Fisher.fit(X_Train,y_Train)\n"
      ],
      "execution_count": null,
      "outputs": [
        {
          "output_type": "execute_result",
          "data": {
            "text/plain": [
              "LinearDiscriminantAnalysis(n_components=None, priors=None, shrinkage=None,\n",
              "                           solver='svd', store_covariance=False, tol=0.0001)"
            ]
          },
          "metadata": {
            "tags": []
          },
          "execution_count": 48
        }
      ]
    },
    {
      "cell_type": "code",
      "metadata": {
        "id": "mUeYO8zWYR_6",
        "colab_type": "code",
        "colab": {}
      },
      "source": [
        "#plt.figure()\n",
        "#plt.hist(Fisher.decision_function(Test_sig[VarNames[1:]]),bins=100,histtype=\"step\", color=\"blue\", label=\"signal\")\n",
        "#plt.hist(Fisher.decision_function(Test_bkg[VarNames[1:]]),bins=100,histtype=\"step\", color=\"red\", label=\"background\")\n",
        "#plt.legend(loc='upper right')\n",
        "#plt.show()"
      ],
      "execution_count": null,
      "outputs": []
    },
    {
      "cell_type": "code",
      "metadata": {
        "id": "fheNZcNPaCuq",
        "colab_type": "code",
        "colab": {}
      },
      "source": [
        "from sklearn import tree\n",
        "from sklearn.metrics import accuracy_score\n",
        "from sklearn.model_selection import cross_val_score\n",
        "from sklearn.metrics import confusion_matrix\n",
        "from sklearn.model_selection import cross_val_predict\n",
        " \n",
        "from sklearn.metrics import precision_recall_curve\n",
        "from sklearn.metrics import roc_curve\n",
        "from sklearn.metrics import auc\n",
        "from sklearn.metrics import precision_score\n",
        "from sklearn.metrics import recall_score\n",
        "\n"
      ],
      "execution_count": null,
      "outputs": []
    },
    {
      "cell_type": "code",
      "metadata": {
        "id": "c0eqvJbtatJR",
        "colab_type": "code",
        "colab": {
          "base_uri": "https://localhost:8080/",
          "height": 85
        },
        "outputId": "c67365eb-24a8-4406-d9af-6572953f1b10"
      },
      "source": [
        "y_Train_pred = Fisher.predict(X_Train)\n",
        "y_Test_pred = Fisher.predict(X_Test)\n",
        "#print(accuracy_score(y_Train, y_Train))\n",
        "print(accuracy_score(y_Train, y_Train_pred))\n",
        "print(accuracy_score(y_Test, y_Test_pred))\n",
        "print(cross_val_score(Fisher, X_Train, y_Train, cv=3,scoring=\"accuracy\"))\n",
        "print(y_Test_pred)"
      ],
      "execution_count": null,
      "outputs": [
        {
          "output_type": "stream",
          "text": [
            "0.88932\n",
            "0.8927548096602538\n",
            "[0.89176866 0.88779551 0.88827553]\n",
            "[1 1 1 ... 1 1 1]\n"
          ],
          "name": "stdout"
        }
      ]
    },
    {
      "cell_type": "code",
      "metadata": {
        "id": "LHpxcIxHqWbO",
        "colab_type": "code",
        "colab": {}
      },
      "source": [
        ""
      ],
      "execution_count": null,
      "outputs": []
    },
    {
      "cell_type": "code",
      "metadata": {
        "id": "BmebjhYPm-Ix",
        "colab_type": "code",
        "colab": {
          "base_uri": "https://localhost:8080/",
          "height": 51
        },
        "outputId": "ae9601c6-b821-49b9-de78-33c77d38b6e8"
      },
      "source": [
        "confusion_matrix(y_Train, y_Train_pred, labels=[1,0])"
      ],
      "execution_count": null,
      "outputs": [
        {
          "output_type": "execute_result",
          "data": {
            "text/plain": [
              "array([[21524,    68],\n",
              "       [ 2699,   709]])"
            ]
          },
          "metadata": {
            "tags": []
          },
          "execution_count": 52
        }
      ]
    },
    {
      "cell_type": "code",
      "metadata": {
        "id": "UxUKUN9Vk6O9",
        "colab_type": "code",
        "colab": {
          "base_uri": "https://localhost:8080/",
          "height": 34
        },
        "outputId": "fb4a4fd1-f387-4c71-8a94-0f1cc070ec02"
      },
      "source": [
        "y_scores = cross_val_predict(Fisher, X_Train, y_Train, cv=3,\n",
        "                             method=\"decision_function\")\n",
        "print(y_scores)"
      ],
      "execution_count": null,
      "outputs": [
        {
          "output_type": "stream",
          "text": [
            "[2.89678003 2.13014553 4.59934035 ... 1.84604619 2.79179767 1.64922868]\n"
          ],
          "name": "stdout"
        }
      ]
    },
    {
      "cell_type": "code",
      "metadata": {
        "id": "hLbZAmlUkkIm",
        "colab_type": "code",
        "colab": {
          "base_uri": "https://localhost:8080/",
          "height": 51
        },
        "outputId": "7a71ae31-3f1d-4403-8e64-8a323c6e8980"
      },
      "source": [
        "y_Train_pred_2=y_Train\n",
        "confusion_matrix(y_Train, y_Train_pred_2)"
      ],
      "execution_count": null,
      "outputs": [
        {
          "output_type": "execute_result",
          "data": {
            "text/plain": [
              "array([[ 3408,     0],\n",
              "       [    0, 21592]])"
            ]
          },
          "metadata": {
            "tags": []
          },
          "execution_count": 54
        }
      ]
    },
    {
      "cell_type": "code",
      "metadata": {
        "id": "LHJmILtjknuz",
        "colab_type": "code",
        "colab": {
          "base_uri": "https://localhost:8080/",
          "height": 51
        },
        "outputId": "b7b6bdbd-1e71-4846-e3ca-7b07361f3b50"
      },
      "source": [
        "print(precision_score(y_Train, y_Train_pred))\n",
        "print(recall_score(y_Train, y_Train_pred))\n"
      ],
      "execution_count": null,
      "outputs": [
        {
          "output_type": "stream",
          "text": [
            "0.8885769722990546\n",
            "0.9968506854390515\n"
          ],
          "name": "stdout"
        }
      ]
    },
    {
      "cell_type": "code",
      "metadata": {
        "id": "EI46mn6xnu7Q",
        "colab_type": "code",
        "colab": {
          "base_uri": "https://localhost:8080/",
          "height": 51
        },
        "outputId": "301d8ec7-7b48-4e79-8869-b4f068f8d4c3"
      },
      "source": [
        "print(precision_score(y_Test, y_Test_pred))\n",
        "print(recall_score(y_Test, y_Test_pred))"
      ],
      "execution_count": null,
      "outputs": [
        {
          "output_type": "stream",
          "text": [
            "0.8912997682746998\n",
            "0.9981127624439726\n"
          ],
          "name": "stdout"
        }
      ]
    },
    {
      "cell_type": "code",
      "metadata": {
        "id": "G_HPAfQBzpXW",
        "colab_type": "code",
        "colab": {
          "base_uri": "https://localhost:8080/",
          "height": 309
        },
        "outputId": "2cefe61d-e48a-44bd-bed1-9effb0fa1eec"
      },
      "source": [
        "from sklearn.metrics import precision_recall_curve\n",
        "precisions, recalls, thresholds = precision_recall_curve(y_Train, Fisher.decision_function(X_Train))\n",
        "\n",
        "def plot_precision_recall_vs_threshold(precisions, recalls, thresholds):\n",
        "    plt.plot(thresholds, precisions[:-1], \"b--\", label=\"Precision\", linewidth=2)\n",
        "    plt.plot(thresholds, recalls[:-1], \"g-\", label=\"Recall\", linewidth=2)\n",
        "    plt.legend(loc=\"center right\", fontsize=16) \n",
        "    plt.xlabel(\"Threshold\", fontsize=16)\n",
        "    plt.axis([-10, 10, 0, 1])        \n",
        "    plt.grid(True)         \n",
        "    plt.figure(figsize=(8, 4))                                                                 \n",
        "\n",
        "plot_precision_recall_vs_threshold(precisions, recalls, thresholds)\n",
        "plt.show()"
      ],
      "execution_count": null,
      "outputs": [
        {
          "output_type": "display_data",
          "data": {
            "image/png": "[encoded data removed]",
            "text/plain": [
              "<Figure size 432x288 with 1 Axes>"
            ]
          },
          "metadata": {
            "tags": [],
            "needs_background": "light"
          }
        },
        {
          "output_type": "display_data",
          "data": {
            "text/plain": [
              "<Figure size 576x288 with 0 Axes>"
            ]
          },
          "metadata": {
            "tags": []
          }
        }
      ]
    },
    {
      "cell_type": "code",
      "metadata": {
        "id": "DEpc4Tginko4",
        "colab_type": "code",
        "colab": {
          "base_uri": "https://localhost:8080/",
          "height": 309
        },
        "outputId": "794c1ca7-9abe-4457-fde3-83d68849a7f9"
      },
      "source": [
        "from sklearn.metrics import precision_recall_curve\n",
        "precisions, recalls, thresholds = precision_recall_curve(y_Test, Fisher.decision_function(X_Test))                                                              \n",
        "\n",
        "plot_precision_recall_vs_threshold(precisions, recalls, thresholds)\n",
        "plt.show()"
      ],
      "execution_count": null,
      "outputs": [
        {
          "output_type": "display_data",
          "data": {
            "image/png": "[encoded data removed]",
            "text/plain": [
              "<Figure size 432x288 with 1 Axes>"
            ]
          },
          "metadata": {
            "tags": [],
            "needs_background": "light"
          }
        },
        {
          "output_type": "display_data",
          "data": {
            "text/plain": [
              "<Figure size 576x288 with 0 Axes>"
            ]
          },
          "metadata": {
            "tags": []
          }
        }
      ]
    },
    {
      "cell_type": "code",
      "metadata": {
        "id": "_TKg3Vd7nfkR",
        "colab_type": "code",
        "colab": {
          "base_uri": "https://localhost:8080/",
          "height": 286
        },
        "outputId": "365c4e9a-063c-4da2-fa73-e8ac8025c5e3"
      },
      "source": [
        "from sklearn.metrics import roc_curve, auc\n",
        "fpr, tpr, _ = roc_curve(y_Train, Fisher.decision_function(X_Train))\n",
        "\n",
        "roc_auc = auc(fpr, tpr)\n",
        "\n",
        "plt.plot(fpr,tpr,color='darkorange',label='ROC curve (area = %0.2f)' % roc_auc)\n",
        "plt.legend(loc=\"lower right\")\n",
        "plt.xlabel('False Positive Rate')\n",
        "plt.ylabel('True Positive Rate')\n",
        "\n",
        "plt.show()"
      ],
      "execution_count": null,
      "outputs": [
        {
          "output_type": "display_data",
          "data": {
            "image/png": "[encoded data removed]",
            "text/plain": [
              "<Figure size 432x288 with 1 Axes>"
            ]
          },
          "metadata": {
            "tags": [],
            "needs_background": "light"
          }
        }
      ]
    },
    {
      "cell_type": "markdown",
      "metadata": {
        "id": "2EpCUUxnoIj8",
        "colab_type": "text"
      },
      "source": [
        "# Default method 1"
      ]
    },
    {
      "cell_type": "code",
      "metadata": {
        "id": "AcpLUvXxt5UH",
        "colab_type": "code",
        "colab": {
          "base_uri": "https://localhost:8080/",
          "height": 470
        },
        "outputId": "cec85d31-3343-401a-c988-57c4204fc546"
      },
      "source": [
        "PandaPionDF_DM1=treePion.pandas.df([\"fTreeVariablePDGCodeTrigger\", \"fTreeVariableNSigmaTOF*\", \"fTreeVariableNSigmaTPC*\", \"fTreeVariabledEdX\", \"fTreeVariableTOFBeta\", \"fTreeVariablePtTrigger\", \"fTreeVariablePtot\"])\n",
        "PandaPionDF_DM1.loc[(PandaPionDF_DM1['fTreeVariablePDGCodeTrigger'] !=0),  'fTreeVariablePDGCodeTrigger'] = 0\n",
        "PandaPionDF_DM1.loc[(abs(PandaPionDF_DM1['fTreeVariableNSigmaTPCPion']) <= 3) & (PandaPionDF_DM1['fTreeVariableNSigmaTOFPion'] ==-999) , 'fTreeVariablePDGCodeTrigger'] = 1\n",
        "PandaPionDF_DM1.loc[(abs(PandaPionDF_DM1['fTreeVariableNSigmaTPCPion']) <= 3) & (abs(PandaPionDF_DM1['fTreeVariableNSigmaTOFPion']) <=3 ) , 'fTreeVariablePDGCodeTrigger'] = 1\n",
        "PandaPionDF_DM1"
      ],
      "execution_count": null,
      "outputs": [
        {
          "output_type": "execute_result",
          "data": {
            "text/html": [
              "<div>\n",
              "<style scoped>\n",
              "    .dataframe tbody tr th:only-of-type {\n",
              "        vertical-align: middle;\n",
              "    }\n",
              "\n",
              "    .dataframe tbody tr th {\n",
              "        vertical-align: top;\n",
              "    }\n",
              "\n",
              "    .dataframe thead th {\n",
              "        text-align: right;\n",
              "    }\n",
              "</style>\n",
              "<table border=\"1\" class=\"dataframe\">\n",
              "  <thead>\n",
              "    <tr style=\"text-align: right;\">\n",
              "      <th></th>\n",
              "      <th>fTreeVariablePDGCodeTrigger</th>\n",
              "      <th>fTreeVariableNSigmaTOFPion</th>\n",
              "      <th>fTreeVariableNSigmaTOFProton</th>\n",
              "      <th>fTreeVariableNSigmaTOFKaon</th>\n",
              "      <th>fTreeVariableNSigmaTPCPion</th>\n",
              "      <th>fTreeVariableNSigmaTPCProton</th>\n",
              "      <th>fTreeVariableNSigmaTPCKaon</th>\n",
              "      <th>fTreeVariabledEdX</th>\n",
              "      <th>fTreeVariableTOFBeta</th>\n",
              "      <th>fTreeVariablePtTrigger</th>\n",
              "      <th>fTreeVariablePtot</th>\n",
              "    </tr>\n",
              "    <tr>\n",
              "      <th>entry</th>\n",
              "      <th></th>\n",
              "      <th></th>\n",
              "      <th></th>\n",
              "      <th></th>\n",
              "      <th></th>\n",
              "      <th></th>\n",
              "      <th></th>\n",
              "      <th></th>\n",
              "      <th></th>\n",
              "      <th></th>\n",
              "      <th></th>\n",
              "    </tr>\n",
              "  </thead>\n",
              "  <tbody>\n",
              "    <tr>\n",
              "      <th>0</th>\n",
              "      <td>1</td>\n",
              "      <td>-2.230226</td>\n",
              "      <td>-35.320332</td>\n",
              "      <td>-25.963812</td>\n",
              "      <td>-0.127966</td>\n",
              "      <td>-9.431816</td>\n",
              "      <td>-3.828087</td>\n",
              "      <td>52.43750</td>\n",
              "      <td>0.994264</td>\n",
              "      <td>0.649327</td>\n",
              "      <td>0.670385</td>\n",
              "    </tr>\n",
              "    <tr>\n",
              "      <th>1</th>\n",
              "      <td>0</td>\n",
              "      <td>10.081083</td>\n",
              "      <td>0.804991</td>\n",
              "      <td>7.599912</td>\n",
              "      <td>-2.008423</td>\n",
              "      <td>0.096354</td>\n",
              "      <td>0.284303</td>\n",
              "      <td>47.50000</td>\n",
              "      <td>0.924140</td>\n",
              "      <td>2.227615</td>\n",
              "      <td>2.447410</td>\n",
              "    </tr>\n",
              "    <tr>\n",
              "      <th>2</th>\n",
              "      <td>1</td>\n",
              "      <td>-0.553305</td>\n",
              "      <td>-27.344255</td>\n",
              "      <td>-33.411983</td>\n",
              "      <td>0.689799</td>\n",
              "      <td>-11.394800</td>\n",
              "      <td>-7.378132</td>\n",
              "      <td>47.75000</td>\n",
              "      <td>0.942234</td>\n",
              "      <td>0.379171</td>\n",
              "      <td>0.388629</td>\n",
              "    </tr>\n",
              "    <tr>\n",
              "      <th>3</th>\n",
              "      <td>1</td>\n",
              "      <td>-999.000000</td>\n",
              "      <td>-999.000000</td>\n",
              "      <td>-999.000000</td>\n",
              "      <td>-0.032429</td>\n",
              "      <td>-12.332022</td>\n",
              "      <td>-8.524711</td>\n",
              "      <td>51.34375</td>\n",
              "      <td>-999.000000</td>\n",
              "      <td>0.369425</td>\n",
              "      <td>0.367349</td>\n",
              "    </tr>\n",
              "    <tr>\n",
              "      <th>4</th>\n",
              "      <td>1</td>\n",
              "      <td>-999.000000</td>\n",
              "      <td>-999.000000</td>\n",
              "      <td>-999.000000</td>\n",
              "      <td>-0.359210</td>\n",
              "      <td>-9.399902</td>\n",
              "      <td>-4.866641</td>\n",
              "      <td>45.81250</td>\n",
              "      <td>-999.000000</td>\n",
              "      <td>0.446053</td>\n",
              "      <td>0.562155</td>\n",
              "    </tr>\n",
              "    <tr>\n",
              "      <th>...</th>\n",
              "      <td>...</td>\n",
              "      <td>...</td>\n",
              "      <td>...</td>\n",
              "      <td>...</td>\n",
              "      <td>...</td>\n",
              "      <td>...</td>\n",
              "      <td>...</td>\n",
              "      <td>...</td>\n",
              "      <td>...</td>\n",
              "      <td>...</td>\n",
              "      <td>...</td>\n",
              "    </tr>\n",
              "    <tr>\n",
              "      <th>29881</th>\n",
              "      <td>1</td>\n",
              "      <td>-999.000000</td>\n",
              "      <td>-999.000000</td>\n",
              "      <td>-999.000000</td>\n",
              "      <td>0.184357</td>\n",
              "      <td>-1.257316</td>\n",
              "      <td>1.580425</td>\n",
              "      <td>53.65625</td>\n",
              "      <td>-999.000000</td>\n",
              "      <td>1.026745</td>\n",
              "      <td>1.465556</td>\n",
              "    </tr>\n",
              "    <tr>\n",
              "      <th>29882</th>\n",
              "      <td>1</td>\n",
              "      <td>-999.000000</td>\n",
              "      <td>-999.000000</td>\n",
              "      <td>-999.000000</td>\n",
              "      <td>1.364241</td>\n",
              "      <td>-11.928434</td>\n",
              "      <td>-8.041983</td>\n",
              "      <td>47.78125</td>\n",
              "      <td>-999.000000</td>\n",
              "      <td>0.261129</td>\n",
              "      <td>0.351443</td>\n",
              "    </tr>\n",
              "    <tr>\n",
              "      <th>29883</th>\n",
              "      <td>1</td>\n",
              "      <td>-999.000000</td>\n",
              "      <td>-999.000000</td>\n",
              "      <td>-999.000000</td>\n",
              "      <td>0.234863</td>\n",
              "      <td>-11.159876</td>\n",
              "      <td>-6.697582</td>\n",
              "      <td>52.50000</td>\n",
              "      <td>-999.000000</td>\n",
              "      <td>0.329840</td>\n",
              "      <td>0.446656</td>\n",
              "    </tr>\n",
              "    <tr>\n",
              "      <th>29884</th>\n",
              "      <td>0</td>\n",
              "      <td>-999.000000</td>\n",
              "      <td>-999.000000</td>\n",
              "      <td>-999.000000</td>\n",
              "      <td>3.699789</td>\n",
              "      <td>-12.625470</td>\n",
              "      <td>-10.292855</td>\n",
              "      <td>71.75000</td>\n",
              "      <td>-999.000000</td>\n",
              "      <td>0.185232</td>\n",
              "      <td>0.201746</td>\n",
              "    </tr>\n",
              "    <tr>\n",
              "      <th>29885</th>\n",
              "      <td>1</td>\n",
              "      <td>-999.000000</td>\n",
              "      <td>-999.000000</td>\n",
              "      <td>-999.000000</td>\n",
              "      <td>1.396204</td>\n",
              "      <td>-11.714977</td>\n",
              "      <td>-10.177470</td>\n",
              "      <td>73.18750</td>\n",
              "      <td>-999.000000</td>\n",
              "      <td>0.165671</td>\n",
              "      <td>0.171239</td>\n",
              "    </tr>\n",
              "  </tbody>\n",
              "</table>\n",
              "<p>29886 rows × 11 columns</p>\n",
              "</div>"
            ],
            "text/plain": [
              "       fTreeVariablePDGCodeTrigger  ...  fTreeVariablePtot\n",
              "entry                               ...                   \n",
              "0                                1  ...           0.670385\n",
              "1                                0  ...           2.447410\n",
              "2                                1  ...           0.388629\n",
              "3                                1  ...           0.367349\n",
              "4                                1  ...           0.562155\n",
              "...                            ...  ...                ...\n",
              "29881                            1  ...           1.465556\n",
              "29882                            1  ...           0.351443\n",
              "29883                            1  ...           0.446656\n",
              "29884                            0  ...           0.201746\n",
              "29885                            1  ...           0.171239\n",
              "\n",
              "[29886 rows x 11 columns]"
            ]
          },
          "metadata": {
            "tags": []
          },
          "execution_count": 62
        }
      ]
    },
    {
      "cell_type": "code",
      "metadata": {
        "id": "cfMvbvKawRe7",
        "colab_type": "code",
        "colab": {}
      },
      "source": [
        "N_Train=25000\n",
        "\n",
        "Test_Sample_TrueY=PandaPionDFTry1[N_Train:]\n",
        "Test_Sample_DM1=PandaPionDF_DM1[N_Train:]\n",
        "\n",
        "y_True=Test_Sample_TrueY[\"fTreeVariablePDGCodeTrigger\"]\n",
        "y_DM1=Test_Sample_DM1[\"fTreeVariablePDGCodeTrigger\"]"
      ],
      "execution_count": null,
      "outputs": []
    },
    {
      "cell_type": "code",
      "metadata": {
        "id": "Tbb3sWZsyL5n",
        "colab_type": "code",
        "colab": {
          "base_uri": "https://localhost:8080/",
          "height": 170
        },
        "outputId": "81b5e2e7-7c7c-4ddb-822e-3227f9004666"
      },
      "source": [
        "y_True.describe()"
      ],
      "execution_count": null,
      "outputs": [
        {
          "output_type": "execute_result",
          "data": {
            "text/plain": [
              "count    4886.000000\n",
              "mean        0.867581\n",
              "std         0.338981\n",
              "min         0.000000\n",
              "25%         1.000000\n",
              "50%         1.000000\n",
              "75%         1.000000\n",
              "max         1.000000\n",
              "Name: fTreeVariablePDGCodeTrigger, dtype: float64"
            ]
          },
          "metadata": {
            "tags": []
          },
          "execution_count": 64
        }
      ]
    },
    {
      "cell_type": "code",
      "metadata": {
        "id": "tmiZ6vRnw8X_",
        "colab_type": "code",
        "colab": {
          "base_uri": "https://localhost:8080/",
          "height": 51
        },
        "outputId": "6971154f-47ab-48ee-957b-ce63f3c03684"
      },
      "source": [
        "from sklearn.metrics import precision_score\n",
        "from sklearn.metrics import recall_score\n",
        "print(precision_score(y_True, y_DM1))\n",
        "print(recall_score(y_True, y_DM1))"
      ],
      "execution_count": null,
      "outputs": [
        {
          "output_type": "stream",
          "text": [
            "0.9492919141160348\n",
            "0.9804199103562161\n"
          ],
          "name": "stdout"
        }
      ]
    },
    {
      "cell_type": "code",
      "metadata": {
        "id": "w0fU3C4Aypu4",
        "colab_type": "code",
        "colab": {
          "base_uri": "https://localhost:8080/",
          "height": 286
        },
        "outputId": "417486e3-bfcb-46be-d980-bd9ba04821c3"
      },
      "source": [
        "from sklearn.metrics import roc_curve, auc\n",
        "fpr, tpr, _ = roc_curve(y_True, y_DM1)\n",
        "\n",
        "roc_auc = auc(fpr, tpr)\n",
        "\n",
        "plt.plot(fpr,tpr,color='darkorange',label='ROC curve (area = %0.4f)' % roc_auc)\n",
        "plt.legend(loc=\"lower right\")\n",
        "plt.xlabel('False Positive Rate')\n",
        "plt.ylabel('True Positive Rate')\n",
        "\n",
        "plt.show()"
      ],
      "execution_count": null,
      "outputs": [
        {
          "output_type": "display_data",
          "data": {
            "image/png": "[encoded data removed]",
            "text/plain": [
              "<Figure size 432x288 with 1 Axes>"
            ]
          },
          "metadata": {
            "tags": [],
            "needs_background": "light"
          }
        }
      ]
    },
    {
      "cell_type": "markdown",
      "metadata": {
        "id": "EBx7un1xoLSn",
        "colab_type": "text"
      },
      "source": [
        "# Default method 2"
      ]
    },
    {
      "cell_type": "code",
      "metadata": {
        "id": "jZr_a7LC_u6r",
        "colab_type": "code",
        "colab": {
          "base_uri": "https://localhost:8080/",
          "height": 470
        },
        "outputId": "4f18b97e-05f7-4954-fec3-2840135a32a9"
      },
      "source": [
        "PandaPionDF_DM2=treePion.pandas.df([\"fTreeVariablePDGCodeTrigger\", \"fTreeVariableNSigmaTOF*\", \"fTreeVariableNSigmaTPC*\", \"fTreeVariabledEdX\", \"fTreeVariableTOFBeta\", \"fTreeVariablePtTrigger\", \"fTreeVariablePtot\"])\n",
        "PandaPionDF_DM2.loc[(PandaPionDF_DM2['fTreeVariablePDGCodeTrigger'] !=0),  'fTreeVariablePDGCodeTrigger'] = 0\n",
        "PandaPionDF_DM2.loc[(abs(PandaPionDF_DM2['fTreeVariableNSigmaTPCPion']) <= 3) & (PandaPionDF_DM2['fTreeVariableNSigmaTOFPion'] ==-999) , 'fTreeVariablePDGCodeTrigger'] = 1\n",
        "PandaPionDF_DM2.loc[((abs(PandaPionDF_DM2['fTreeVariableNSigmaTPCPion'])**2 + abs(PandaPionDF_DM2['fTreeVariableNSigmaTOFPion'])**2 )<= 9) & (abs(PandaPionDF_DM2['fTreeVariableNSigmaTOFPion']) !=-999 ) , 'fTreeVariablePDGCodeTrigger'] = 1\n",
        "PandaPionDF_DM2"
      ],
      "execution_count": null,
      "outputs": [
        {
          "output_type": "execute_result",
          "data": {
            "text/html": [
              "<div>\n",
              "<style scoped>\n",
              "    .dataframe tbody tr th:only-of-type {\n",
              "        vertical-align: middle;\n",
              "    }\n",
              "\n",
              "    .dataframe tbody tr th {\n",
              "        vertical-align: top;\n",
              "    }\n",
              "\n",
              "    .dataframe thead th {\n",
              "        text-align: right;\n",
              "    }\n",
              "</style>\n",
              "<table border=\"1\" class=\"dataframe\">\n",
              "  <thead>\n",
              "    <tr style=\"text-align: right;\">\n",
              "      <th></th>\n",
              "      <th>fTreeVariablePDGCodeTrigger</th>\n",
              "      <th>fTreeVariableNSigmaTOFPion</th>\n",
              "      <th>fTreeVariableNSigmaTOFProton</th>\n",
              "      <th>fTreeVariableNSigmaTOFKaon</th>\n",
              "      <th>fTreeVariableNSigmaTPCPion</th>\n",
              "      <th>fTreeVariableNSigmaTPCProton</th>\n",
              "      <th>fTreeVariableNSigmaTPCKaon</th>\n",
              "      <th>fTreeVariabledEdX</th>\n",
              "      <th>fTreeVariableTOFBeta</th>\n",
              "      <th>fTreeVariablePtTrigger</th>\n",
              "      <th>fTreeVariablePtot</th>\n",
              "    </tr>\n",
              "    <tr>\n",
              "      <th>entry</th>\n",
              "      <th></th>\n",
              "      <th></th>\n",
              "      <th></th>\n",
              "      <th></th>\n",
              "      <th></th>\n",
              "      <th></th>\n",
              "      <th></th>\n",
              "      <th></th>\n",
              "      <th></th>\n",
              "      <th></th>\n",
              "      <th></th>\n",
              "    </tr>\n",
              "  </thead>\n",
              "  <tbody>\n",
              "    <tr>\n",
              "      <th>0</th>\n",
              "      <td>1</td>\n",
              "      <td>-2.230226</td>\n",
              "      <td>-35.320332</td>\n",
              "      <td>-25.963812</td>\n",
              "      <td>-0.127966</td>\n",
              "      <td>-9.431816</td>\n",
              "      <td>-3.828087</td>\n",
              "      <td>52.43750</td>\n",
              "      <td>0.994264</td>\n",
              "      <td>0.649327</td>\n",
              "      <td>0.670385</td>\n",
              "    </tr>\n",
              "    <tr>\n",
              "      <th>1</th>\n",
              "      <td>0</td>\n",
              "      <td>10.081083</td>\n",
              "      <td>0.804991</td>\n",
              "      <td>7.599912</td>\n",
              "      <td>-2.008423</td>\n",
              "      <td>0.096354</td>\n",
              "      <td>0.284303</td>\n",
              "      <td>47.50000</td>\n",
              "      <td>0.924140</td>\n",
              "      <td>2.227615</td>\n",
              "      <td>2.447410</td>\n",
              "    </tr>\n",
              "    <tr>\n",
              "      <th>2</th>\n",
              "      <td>1</td>\n",
              "      <td>-0.553305</td>\n",
              "      <td>-27.344255</td>\n",
              "      <td>-33.411983</td>\n",
              "      <td>0.689799</td>\n",
              "      <td>-11.394800</td>\n",
              "      <td>-7.378132</td>\n",
              "      <td>47.75000</td>\n",
              "      <td>0.942234</td>\n",
              "      <td>0.379171</td>\n",
              "      <td>0.388629</td>\n",
              "    </tr>\n",
              "    <tr>\n",
              "      <th>3</th>\n",
              "      <td>1</td>\n",
              "      <td>-999.000000</td>\n",
              "      <td>-999.000000</td>\n",
              "      <td>-999.000000</td>\n",
              "      <td>-0.032429</td>\n",
              "      <td>-12.332022</td>\n",
              "      <td>-8.524711</td>\n",
              "      <td>51.34375</td>\n",
              "      <td>-999.000000</td>\n",
              "      <td>0.369425</td>\n",
              "      <td>0.367349</td>\n",
              "    </tr>\n",
              "    <tr>\n",
              "      <th>4</th>\n",
              "      <td>1</td>\n",
              "      <td>-999.000000</td>\n",
              "      <td>-999.000000</td>\n",
              "      <td>-999.000000</td>\n",
              "      <td>-0.359210</td>\n",
              "      <td>-9.399902</td>\n",
              "      <td>-4.866641</td>\n",
              "      <td>45.81250</td>\n",
              "      <td>-999.000000</td>\n",
              "      <td>0.446053</td>\n",
              "      <td>0.562155</td>\n",
              "    </tr>\n",
              "    <tr>\n",
              "      <th>...</th>\n",
              "      <td>...</td>\n",
              "      <td>...</td>\n",
              "      <td>...</td>\n",
              "      <td>...</td>\n",
              "      <td>...</td>\n",
              "      <td>...</td>\n",
              "      <td>...</td>\n",
              "      <td>...</td>\n",
              "      <td>...</td>\n",
              "      <td>...</td>\n",
              "      <td>...</td>\n",
              "    </tr>\n",
              "    <tr>\n",
              "      <th>29881</th>\n",
              "      <td>1</td>\n",
              "      <td>-999.000000</td>\n",
              "      <td>-999.000000</td>\n",
              "      <td>-999.000000</td>\n",
              "      <td>0.184357</td>\n",
              "      <td>-1.257316</td>\n",
              "      <td>1.580425</td>\n",
              "      <td>53.65625</td>\n",
              "      <td>-999.000000</td>\n",
              "      <td>1.026745</td>\n",
              "      <td>1.465556</td>\n",
              "    </tr>\n",
              "    <tr>\n",
              "      <th>29882</th>\n",
              "      <td>1</td>\n",
              "      <td>-999.000000</td>\n",
              "      <td>-999.000000</td>\n",
              "      <td>-999.000000</td>\n",
              "      <td>1.364241</td>\n",
              "      <td>-11.928434</td>\n",
              "      <td>-8.041983</td>\n",
              "      <td>47.78125</td>\n",
              "      <td>-999.000000</td>\n",
              "      <td>0.261129</td>\n",
              "      <td>0.351443</td>\n",
              "    </tr>\n",
              "    <tr>\n",
              "      <th>29883</th>\n",
              "      <td>1</td>\n",
              "      <td>-999.000000</td>\n",
              "      <td>-999.000000</td>\n",
              "      <td>-999.000000</td>\n",
              "      <td>0.234863</td>\n",
              "      <td>-11.159876</td>\n",
              "      <td>-6.697582</td>\n",
              "      <td>52.50000</td>\n",
              "      <td>-999.000000</td>\n",
              "      <td>0.329840</td>\n",
              "      <td>0.446656</td>\n",
              "    </tr>\n",
              "    <tr>\n",
              "      <th>29884</th>\n",
              "      <td>0</td>\n",
              "      <td>-999.000000</td>\n",
              "      <td>-999.000000</td>\n",
              "      <td>-999.000000</td>\n",
              "      <td>3.699789</td>\n",
              "      <td>-12.625470</td>\n",
              "      <td>-10.292855</td>\n",
              "      <td>71.75000</td>\n",
              "      <td>-999.000000</td>\n",
              "      <td>0.185232</td>\n",
              "      <td>0.201746</td>\n",
              "    </tr>\n",
              "    <tr>\n",
              "      <th>29885</th>\n",
              "      <td>1</td>\n",
              "      <td>-999.000000</td>\n",
              "      <td>-999.000000</td>\n",
              "      <td>-999.000000</td>\n",
              "      <td>1.396204</td>\n",
              "      <td>-11.714977</td>\n",
              "      <td>-10.177470</td>\n",
              "      <td>73.18750</td>\n",
              "      <td>-999.000000</td>\n",
              "      <td>0.165671</td>\n",
              "      <td>0.171239</td>\n",
              "    </tr>\n",
              "  </tbody>\n",
              "</table>\n",
              "<p>29886 rows × 11 columns</p>\n",
              "</div>"
            ],
            "text/plain": [
              "       fTreeVariablePDGCodeTrigger  ...  fTreeVariablePtot\n",
              "entry                               ...                   \n",
              "0                                1  ...           0.670385\n",
              "1                                0  ...           2.447410\n",
              "2                                1  ...           0.388629\n",
              "3                                1  ...           0.367349\n",
              "4                                1  ...           0.562155\n",
              "...                            ...  ...                ...\n",
              "29881                            1  ...           1.465556\n",
              "29882                            1  ...           0.351443\n",
              "29883                            1  ...           0.446656\n",
              "29884                            0  ...           0.201746\n",
              "29885                            1  ...           0.171239\n",
              "\n",
              "[29886 rows x 11 columns]"
            ]
          },
          "metadata": {
            "tags": []
          },
          "execution_count": 67
        }
      ]
    },
    {
      "cell_type": "code",
      "metadata": {
        "id": "ff2wpgE8_8tu",
        "colab_type": "code",
        "colab": {}
      },
      "source": [
        "N_Train=25000\n",
        "\n",
        "#Test_Sample_TrueY=PandaPionDFTry1[N_Train:]\n",
        "Test_Sample_DM2=PandaPionDF_DM2[N_Train:]\n",
        "\n",
        "#y_True=Test_Sample_TrueY[\"fTreeVariablePDGCodeTrigger\"]\n",
        "y_DM2=Test_Sample_DM2[\"fTreeVariablePDGCodeTrigger\"]"
      ],
      "execution_count": null,
      "outputs": []
    },
    {
      "cell_type": "code",
      "metadata": {
        "id": "GVtOHelA_-_S",
        "colab_type": "code",
        "colab": {
          "base_uri": "https://localhost:8080/",
          "height": 51
        },
        "outputId": "5b770ba0-7333-43f2-8783-4e4403a9312d"
      },
      "source": [
        "from sklearn.metrics import precision_score\n",
        "from sklearn.metrics import recall_score\n",
        "print(precision_score(y_True, y_DM2))\n",
        "print(recall_score(y_True, y_DM2))"
      ],
      "execution_count": null,
      "outputs": [
        {
          "output_type": "stream",
          "text": [
            "0.9499540863177227\n",
            "0.9761736258551545\n"
          ],
          "name": "stdout"
        }
      ]
    },
    {
      "cell_type": "code",
      "metadata": {
        "id": "SNm8E2OpACRR",
        "colab_type": "code",
        "colab": {
          "base_uri": "https://localhost:8080/",
          "height": 286
        },
        "outputId": "31a1c5a1-a30d-434a-ab87-788c5619b101"
      },
      "source": [
        "from sklearn.metrics import roc_curve, auc\n",
        "fpr, tpr, _ = roc_curve(y_True, y_DM2)\n",
        "\n",
        "roc_auc = auc(fpr, tpr)\n",
        "\n",
        "plt.plot(fpr,tpr,color='darkorange',label='ROC curve (area = %0.4f)' % roc_auc)\n",
        "plt.legend(loc=\"lower right\")\n",
        "plt.xlabel('False Positive Rate')\n",
        "plt.ylabel('True Positive Rate')\n",
        "\n",
        "plt.show()"
      ],
      "execution_count": null,
      "outputs": [
        {
          "output_type": "display_data",
          "data": {
            "image/png": "[encoded data removed]",
            "text/plain": [
              "<Figure size 432x288 with 1 Axes>"
            ]
          },
          "metadata": {
            "tags": [],
            "needs_background": "light"
          }
        }
      ]
    },
    {
      "cell_type": "markdown",
      "metadata": {
        "id": "92fhtAY0qpBi",
        "colab_type": "text"
      },
      "source": [
        "# BDT"
      ]
    },
    {
      "cell_type": "code",
      "metadata": {
        "id": "wRifsZv8qoKx",
        "colab_type": "code",
        "colab": {
          "base_uri": "https://localhost:8080/",
          "height": 119
        },
        "outputId": "a6c344f8-28d4-4db0-98f1-08ce9053ebf5"
      },
      "source": [
        "clf=tree.DecisionTreeClassifier()\n",
        "clf.fit(X_Train,y_Train)"
      ],
      "execution_count": null,
      "outputs": [
        {
          "output_type": "execute_result",
          "data": {
            "text/plain": [
              "DecisionTreeClassifier(ccp_alpha=0.0, class_weight=None, criterion='gini',\n",
              "                       max_depth=None, max_features=None, max_leaf_nodes=None,\n",
              "                       min_impurity_decrease=0.0, min_impurity_split=None,\n",
              "                       min_samples_leaf=1, min_samples_split=2,\n",
              "                       min_weight_fraction_leaf=0.0, presort='deprecated',\n",
              "                       random_state=None, splitter='best')"
            ]
          },
          "metadata": {
            "tags": []
          },
          "execution_count": 71
        }
      ]
    }
  ]
}