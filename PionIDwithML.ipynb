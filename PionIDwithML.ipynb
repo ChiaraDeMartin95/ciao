{
  "nbformat": 4,
  "nbformat_minor": 0,
  "metadata": {
    "colab": {
      "name": "PionIDwithML.ipynb",
      "provenance": [],
      "authorship_tag": "ABX9TyNvZFb5DyTJ/LJ1fmnOITQk",
      "include_colab_link": true
    },
    "kernelspec": {
      "name": "python3",
      "display_name": "Python 3"
    }
  },
  "cells": [
    {
      "cell_type": "markdown",
      "metadata": {
        "id": "view-in-github",
        "colab_type": "text"
      },
      "source": [
        "<a href=\"https://colab.research.google.com/github/ChiaraDeMartin95/ciao/blob/master/PionIDwithML.ipynb\" target=\"_parent\"><img src=\"https://colab.research.google.com/assets/colab-badge.svg\" alt=\"Open In Colab\"/></a>"
      ]
    },
    {
      "cell_type": "code",
      "metadata": {
        "id": "sBGpmAz4tNCW",
        "colab_type": "code",
        "colab": {}
      },
      "source": [
        "# Python ≥3.5 is required\n",
        "import sys\n",
        "assert sys.version_info >= (3, 5)\n",
        "\n",
        "# Scikit-Learn ≥0.20 is required\n",
        "import sklearn\n",
        "assert sklearn.__version__ >= \"0.20\"\n",
        "\n",
        "# Common imports\n",
        "import numpy as np\n",
        "import os\n",
        "\n",
        "# To plot pretty figures\n",
        "%matplotlib inline\n",
        "import matplotlib as mpl\n",
        "import matplotlib.pyplot as plt\n",
        "mpl.rc('axes', labelsize=14)\n",
        "mpl.rc('xtick', labelsize=12)\n",
        "mpl.rc('ytick', labelsize=12)\n",
        "\n",
        "# Where to save the figures\n",
        "PROJECT_ROOT_DIR = \".\"\n",
        "CHAPTER_ID = \"PionID\"\n",
        "IMAGES_PATH = os.path.join(PROJECT_ROOT_DIR, \"images\", CHAPTER_ID)\n",
        "#os.makedirs(IMAGES_PATH, exist_ok=True)\n",
        "\n",
        "def save_fig(fig_id, tight_layout=True, fig_extension=\"png\", resolution=300):\n",
        "    path = os.path.join(IMAGES_PATH, fig_id + \".\" + fig_extension)\n",
        "    print(\"Saving figure\", fig_id)\n",
        "    if tight_layout:\n",
        "        plt.tight_layout()\n",
        "    plt.savefig(path, format=fig_extension, dpi=resolution)\n",
        "\n",
        "# Ignore useless warnings (see SciPy issue #5998)\n",
        "import warnings\n",
        "warnings.filterwarnings(action=\"ignore\", message=\"^internal gelsd\")"
      ],
      "execution_count": 1,
      "outputs": []
    },
    {
      "cell_type": "code",
      "metadata": {
        "id": "o5OYxWrXh2B0",
        "colab_type": "code",
        "colab": {
          "base_uri": "https://localhost:8080/",
          "height": 34
        },
        "outputId": "3a239b26-b528-4010-a08d-af3c85c9c49d"
      },
      "source": [
        "# mount drive\n",
        "from google.colab import drive\n",
        "drive.mount('/content/gdrive')\n",
        "path_to_dir='/content/gdrive/My\\ Drive/FianlExamML/'"
      ],
      "execution_count": 13,
      "outputs": [
        {
          "output_type": "stream",
          "text": [
            "Drive already mounted at /content/gdrive; to attempt to forcibly remount, call drive.mount(\"/content/gdrive\", force_remount=True).\n"
          ],
          "name": "stdout"
        }
      ]
    },
    {
      "cell_type": "code",
      "metadata": {
        "id": "HD8FSU4jiWai",
        "colab_type": "code",
        "colab": {
          "base_uri": "https://localhost:8080/",
          "height": 34
        },
        "outputId": "e0a0bb32-4e27-4bff-9b8b-b11a44f7876e"
      },
      "source": [
        "!ls /content/gdrive/My\\ Drive/FianlExamML"
      ],
      "execution_count": 7,
      "outputs": [
        {
          "output_type": "stream",
          "text": [
            "ls: cannot access '/content/gdrive/My Drive/FianlExamML': No such file or directory\n"
          ],
          "name": "stdout"
        }
      ]
    },
    {
      "cell_type": "code",
      "metadata": {
        "id": "qXrjXxnLjnNH",
        "colab_type": "code",
        "colab": {
          "base_uri": "https://localhost:8080/",
          "height": 34
        },
        "outputId": "6eb5e858-a353-4ec7-f492-419073909ef8"
      },
      "source": [
        "# mount drive\n",
        "from google.colab import drive\n",
        "drive.mount('/content/gdrive')\n",
        "path_to_dir='/content/gdrive/My\\ Drive/FinalExamML/'"
      ],
      "execution_count": 16,
      "outputs": [
        {
          "output_type": "stream",
          "text": [
            "Drive already mounted at /content/gdrive; to attempt to forcibly remount, call drive.mount(\"/content/gdrive\", force_remount=True).\n"
          ],
          "name": "stdout"
        }
      ]
    },
    {
      "cell_type": "code",
      "metadata": {
        "id": "ORjKxROXkEYl",
        "colab_type": "code",
        "colab": {
          "base_uri": "https://localhost:8080/",
          "height": 300
        },
        "outputId": "9ceb19d7-e472-43e6-f759-acd29b862b22"
      },
      "source": [
        "import uproot"
      ],
      "execution_count": 17,
      "outputs": [
        {
          "output_type": "error",
          "ename": "ModuleNotFoundError",
          "evalue": "ignored",
          "traceback": [
            "\u001b[0;31m---------------------------------------------------------------------------\u001b[0m",
            "\u001b[0;31mModuleNotFoundError\u001b[0m                       Traceback (most recent call last)",
            "\u001b[0;32m<ipython-input-17-e035208a4b54>\u001b[0m in \u001b[0;36m<module>\u001b[0;34m()\u001b[0m\n\u001b[0;32m----> 1\u001b[0;31m \u001b[0;32mimport\u001b[0m \u001b[0muproot\u001b[0m\u001b[0;34m\u001b[0m\u001b[0;34m\u001b[0m\u001b[0m\n\u001b[0m",
            "\u001b[0;31mModuleNotFoundError\u001b[0m: No module named 'uproot'",
            "",
            "\u001b[0;31m---------------------------------------------------------------------------\u001b[0;32m\nNOTE: If your import is failing due to a missing package, you can\nmanually install dependencies using either !pip or !apt.\n\nTo view examples of installing some common dependencies, click the\n\"Open Examples\" button below.\n\u001b[0;31m---------------------------------------------------------------------------\u001b[0m\n"
          ]
        }
      ]
    },
    {
      "cell_type": "code",
      "metadata": {
        "id": "bGGdu-y9wcAm",
        "colab_type": "code",
        "colab": {
          "base_uri": "https://localhost:8080/",
          "height": 241
        },
        "outputId": "cab89da7-30cd-41c9-cc4b-0f3e8d5f3ff8"
      },
      "source": [
        "!pip install uproot "
      ],
      "execution_count": 18,
      "outputs": [
        {
          "output_type": "stream",
          "text": [
            "Collecting uproot\n",
            "\u001b[?25l  Downloading https://files.pythonhosted.org/packages/0a/52/0e5e295affc168430591b8a687f7ba6c2bb911c766605466e224e2b22069/uproot-3.11.7-py2.py3-none-any.whl (116kB)\n",
            "\r\u001b[K     |██▉                             | 10kB 19.9MB/s eta 0:00:01\r\u001b[K     |█████▋                          | 20kB 2.8MB/s eta 0:00:01\r\u001b[K     |████████▌                       | 30kB 3.8MB/s eta 0:00:01\r\u001b[K     |███████████▎                    | 40kB 4.2MB/s eta 0:00:01\r\u001b[K     |██████████████                  | 51kB 3.3MB/s eta 0:00:01\r\u001b[K     |█████████████████               | 61kB 3.8MB/s eta 0:00:01\r\u001b[K     |███████████████████▊            | 71kB 4.0MB/s eta 0:00:01\r\u001b[K     |██████████████████████▌         | 81kB 4.4MB/s eta 0:00:01\r\u001b[K     |█████████████████████████▍      | 92kB 4.7MB/s eta 0:00:01\r\u001b[K     |████████████████████████████▏   | 102kB 4.5MB/s eta 0:00:01\r\u001b[K     |███████████████████████████████ | 112kB 4.5MB/s eta 0:00:01\r\u001b[K     |████████████████████████████████| 122kB 4.5MB/s \n",
            "\u001b[?25hRequirement already satisfied: numpy>=1.13.1 in /usr/local/lib/python3.6/dist-packages (from uproot) (1.18.5)\n",
            "Collecting uproot-methods>=0.7.0\n",
            "  Downloading https://files.pythonhosted.org/packages/d3/68/d848b0ff4d1a30500b26dd570068edf5b30bafbc40500b887ef34d13377b/uproot_methods-0.7.4-py2.py3-none-any.whl\n",
            "Requirement already satisfied: cachetools in /usr/local/lib/python3.6/dist-packages (from uproot) (4.1.0)\n",
            "Collecting awkward<1.0,>=0.12.0\n",
            "\u001b[?25l  Downloading https://files.pythonhosted.org/packages/99/2f/00ba25d499c969d95dfce221d1ce3556a4400919f803d286c7c6817a108d/awkward-0.12.21-py2.py3-none-any.whl (87kB)\n",
            "\u001b[K     |████████████████████████████████| 92kB 7.8MB/s \n",
            "\u001b[?25hInstalling collected packages: awkward, uproot-methods, uproot\n",
            "Successfully installed awkward-0.12.21 uproot-3.11.7 uproot-methods-0.7.4\n"
          ],
          "name": "stdout"
        }
      ]
    },
    {
      "cell_type": "code",
      "metadata": {
        "id": "e_9WOaVbxF_d",
        "colab_type": "code",
        "colab": {}
      },
      "source": [
        "import uproot"
      ],
      "execution_count": 19,
      "outputs": []
    },
    {
      "cell_type": "code",
      "metadata": {
        "id": "OGQgeEJ6xJwh",
        "colab_type": "code",
        "colab": {}
      },
      "source": [
        "filePion=uproot.open(\"/content/gdrive/My Drive/AnalysisResults.root\")"
      ],
      "execution_count": 24,
      "outputs": []
    },
    {
      "cell_type": "code",
      "metadata": {
        "id": "bEUxcTZpx7qI",
        "colab_type": "code",
        "colab": {
          "base_uri": "https://localhost:8080/",
          "height": 34
        },
        "outputId": "9e1b108d-6c3d-4b51-bda8-4ff557319c68"
      },
      "source": [
        "!ls /content/gdrive/My\\ Drive/Ana*"
      ],
      "execution_count": 23,
      "outputs": [
        {
          "output_type": "stream",
          "text": [
            "'/content/gdrive/My Drive/AnalysisResults.root'\n"
          ],
          "name": "stdout"
        }
      ]
    },
    {
      "cell_type": "code",
      "metadata": {
        "id": "gmowoHcKy6PF",
        "colab_type": "code",
        "colab": {
          "base_uri": "https://localhost:8080/",
          "height": 34
        },
        "outputId": "b00c89ec-e775-45f6-81f5-dbf8860a9989"
      },
      "source": [
        "filePion.keys()"
      ],
      "execution_count": 25,
      "outputs": [
        {
          "output_type": "execute_result",
          "data": {
            "text/plain": [
              "[b'MultSelection_MC;1', b'MyTaskPions;1']"
            ]
          },
          "metadata": {
            "tags": []
          },
          "execution_count": 25
        }
      ]
    },
    {
      "cell_type": "code",
      "metadata": {
        "id": "WqiiKIIyzY50",
        "colab_type": "code",
        "colab": {}
      },
      "source": [
        "dirPion=filePion[\"MyTaskPions\"]"
      ],
      "execution_count": 26,
      "outputs": []
    },
    {
      "cell_type": "code",
      "metadata": {
        "id": "e2RWNRyZzqLd",
        "colab_type": "code",
        "colab": {
          "base_uri": "https://localhost:8080/",
          "height": 119
        },
        "outputId": "719b12d6-1873-4622-9d09-78180ad8a488"
      },
      "source": [
        "dirPion.keys()"
      ],
      "execution_count": 27,
      "outputs": [
        {
          "output_type": "execute_result",
          "data": {
            "text/plain": [
              "[b'MyOutputContainer;1',\n",
              " b'fSignalTree;1',\n",
              " b'fBkgTree;1',\n",
              " b'MyOutputContainer3;1',\n",
              " b'MyOutputContainer4;1',\n",
              " b'Risoluzione;1']"
            ]
          },
          "metadata": {
            "tags": []
          },
          "execution_count": 27
        }
      ]
    },
    {
      "cell_type": "code",
      "metadata": {
        "id": "r5u-dOSszsNf",
        "colab_type": "code",
        "colab": {}
      },
      "source": [
        "treePion=dirPion[\"fSignalTree\"]"
      ],
      "execution_count": 28,
      "outputs": []
    },
    {
      "cell_type": "code",
      "metadata": {
        "id": "h1SSI2nLzwj4",
        "colab_type": "code",
        "colab": {
          "base_uri": "https://localhost:8080/",
          "height": 323
        },
        "outputId": "88020665-dcfb-4841-b81d-49ba11b3c96d"
      },
      "source": [
        "treePion.keys()"
      ],
      "execution_count": 29,
      "outputs": [
        {
          "output_type": "execute_result",
          "data": {
            "text/plain": [
              "[b'fTreeVariableNSigmaTOFPion',\n",
              " b'fTreeVariableNSigmaTOFProton',\n",
              " b'fTreeVariableNSigmaTOFKaon',\n",
              " b'fTreeVariableNSigmaTPCPion',\n",
              " b'fTreeVariableNSigmaTPCProton',\n",
              " b'fTreeVariableNSigmaTPCKaon',\n",
              " b'fTreeVariabledEdX',\n",
              " b'fTreeVariableTOFBeta',\n",
              " b'fTreeVariableTOFMass',\n",
              " b'fTreeVariablePtTrigger',\n",
              " b'fTreeVariableChargeTrigger',\n",
              " b'fTreeVariableEtaTrigger',\n",
              " b'fTreeVariablePhiTrigger',\n",
              " b'fTreeVariableDCAz',\n",
              " b'fTreeVariableDCAxy',\n",
              " b'fTreeVariableisPrimaryTrigger',\n",
              " b'fTreeVariableMultiplicity',\n",
              " b'fTreeVariablePDGCodeTrigger']"
            ]
          },
          "metadata": {
            "tags": []
          },
          "execution_count": 29
        }
      ]
    },
    {
      "cell_type": "code",
      "metadata": {
        "id": "oQXsIiX0zyx8",
        "colab_type": "code",
        "colab": {
          "base_uri": "https://localhost:8080/",
          "height": 34
        },
        "outputId": "359f385a-9f09-4a49-ab67-718859cf21cd"
      },
      "source": [
        "treePion['fTreeVariableChargeTrigger'].array()"
      ],
      "execution_count": 30,
      "outputs": [
        {
          "output_type": "execute_result",
          "data": {
            "text/plain": [
              "array([ 1,  1,  1, ..., -1,  1,  1], dtype=int32)"
            ]
          },
          "metadata": {
            "tags": []
          },
          "execution_count": 30
        }
      ]
    },
    {
      "cell_type": "code",
      "metadata": {
        "id": "1Zo_P832z7y3",
        "colab_type": "code",
        "colab": {}
      },
      "source": [
        "PandaPionDF=treePion.pandas.df([\"fTreeVariableNSigmaTOF*\", \"fTreeVariableNSigmaTPC*\", \"fTreeVariabledEdX\", \"fTreeVariableTOFMass\", \"fTreeVariablePtTrigger\", \"fTreeVariablePDGCodeTrigger\", \"fTreeVariableisPrimaryTrigger\"])"
      ],
      "execution_count": 48,
      "outputs": []
    },
    {
      "cell_type": "code",
      "metadata": {
        "id": "GqcjPkys0fGU",
        "colab_type": "code",
        "colab": {
          "base_uri": "https://localhost:8080/",
          "height": 323
        },
        "outputId": "2b30947b-bb87-44b0-e711-d39fa77b1675"
      },
      "source": [
        "PandaPionDF.info()"
      ],
      "execution_count": 49,
      "outputs": [
        {
          "output_type": "stream",
          "text": [
            "<class 'pandas.core.frame.DataFrame'>\n",
            "RangeIndex: 32274 entries, 0 to 32273\n",
            "Data columns (total 11 columns):\n",
            " #   Column                         Non-Null Count  Dtype  \n",
            "---  ------                         --------------  -----  \n",
            " 0   fTreeVariableNSigmaTOFPion     32274 non-null  float64\n",
            " 1   fTreeVariableNSigmaTOFProton   32274 non-null  float64\n",
            " 2   fTreeVariableNSigmaTOFKaon     32274 non-null  float64\n",
            " 3   fTreeVariableNSigmaTPCPion     32274 non-null  float64\n",
            " 4   fTreeVariableNSigmaTPCProton   32274 non-null  float64\n",
            " 5   fTreeVariableNSigmaTPCKaon     32274 non-null  float64\n",
            " 6   fTreeVariabledEdX              32274 non-null  float64\n",
            " 7   fTreeVariableTOFMass           31645 non-null  float64\n",
            " 8   fTreeVariablePtTrigger         32274 non-null  float64\n",
            " 9   fTreeVariablePDGCodeTrigger    32274 non-null  int32  \n",
            " 10  fTreeVariableisPrimaryTrigger  32274 non-null  int32  \n",
            "dtypes: float64(9), int32(2)\n",
            "memory usage: 2.5 MB\n"
          ],
          "name": "stdout"
        }
      ]
    },
    {
      "cell_type": "code",
      "metadata": {
        "id": "Fogong6E1vUt",
        "colab_type": "code",
        "colab": {
          "base_uri": "https://localhost:8080/",
          "height": 317
        },
        "outputId": "5b52be85-0ad1-41cd-a708-add3a1762df6"
      },
      "source": [
        "PandaPionDF.describe()"
      ],
      "execution_count": 50,
      "outputs": [
        {
          "output_type": "execute_result",
          "data": {
            "text/html": [
              "<div>\n",
              "<style scoped>\n",
              "    .dataframe tbody tr th:only-of-type {\n",
              "        vertical-align: middle;\n",
              "    }\n",
              "\n",
              "    .dataframe tbody tr th {\n",
              "        vertical-align: top;\n",
              "    }\n",
              "\n",
              "    .dataframe thead th {\n",
              "        text-align: right;\n",
              "    }\n",
              "</style>\n",
              "<table border=\"1\" class=\"dataframe\">\n",
              "  <thead>\n",
              "    <tr style=\"text-align: right;\">\n",
              "      <th></th>\n",
              "      <th>fTreeVariableNSigmaTOFPion</th>\n",
              "      <th>fTreeVariableNSigmaTOFProton</th>\n",
              "      <th>fTreeVariableNSigmaTOFKaon</th>\n",
              "      <th>fTreeVariableNSigmaTPCPion</th>\n",
              "      <th>fTreeVariableNSigmaTPCProton</th>\n",
              "      <th>fTreeVariableNSigmaTPCKaon</th>\n",
              "      <th>fTreeVariabledEdX</th>\n",
              "      <th>fTreeVariableTOFMass</th>\n",
              "      <th>fTreeVariablePtTrigger</th>\n",
              "      <th>fTreeVariablePDGCodeTrigger</th>\n",
              "      <th>fTreeVariableisPrimaryTrigger</th>\n",
              "    </tr>\n",
              "  </thead>\n",
              "  <tbody>\n",
              "    <tr>\n",
              "      <th>count</th>\n",
              "      <td>32274.000000</td>\n",
              "      <td>32274.000000</td>\n",
              "      <td>32274.000000</td>\n",
              "      <td>32274.000000</td>\n",
              "      <td>32274.000000</td>\n",
              "      <td>32274.000000</td>\n",
              "      <td>32274.000000</td>\n",
              "      <td>31645.000000</td>\n",
              "      <td>32274.000000</td>\n",
              "      <td>32274.0</td>\n",
              "      <td>32274.0</td>\n",
              "    </tr>\n",
              "    <tr>\n",
              "      <th>mean</th>\n",
              "      <td>-692.733333</td>\n",
              "      <td>-703.130569</td>\n",
              "      <td>-699.704178</td>\n",
              "      <td>1.010167</td>\n",
              "      <td>-11.006749</td>\n",
              "      <td>-5.790976</td>\n",
              "      <td>55.702822</td>\n",
              "      <td>-708.714404</td>\n",
              "      <td>0.684837</td>\n",
              "      <td>0.0</td>\n",
              "      <td>0.0</td>\n",
              "    </tr>\n",
              "    <tr>\n",
              "      <th>std</th>\n",
              "      <td>465.263040</td>\n",
              "      <td>447.857566</td>\n",
              "      <td>453.741399</td>\n",
              "      <td>13.678083</td>\n",
              "      <td>12.576176</td>\n",
              "      <td>13.168463</td>\n",
              "      <td>24.490382</td>\n",
              "      <td>453.660858</td>\n",
              "      <td>0.619356</td>\n",
              "      <td>0.0</td>\n",
              "      <td>0.0</td>\n",
              "    </tr>\n",
              "    <tr>\n",
              "      <th>min</th>\n",
              "      <td>-999.000000</td>\n",
              "      <td>-999.000000</td>\n",
              "      <td>-999.000000</td>\n",
              "      <td>-999.000000</td>\n",
              "      <td>-999.000000</td>\n",
              "      <td>-999.000000</td>\n",
              "      <td>0.000000</td>\n",
              "      <td>-999.000000</td>\n",
              "      <td>0.133946</td>\n",
              "      <td>0.0</td>\n",
              "      <td>0.0</td>\n",
              "    </tr>\n",
              "    <tr>\n",
              "      <th>25%</th>\n",
              "      <td>-999.000000</td>\n",
              "      <td>-999.000000</td>\n",
              "      <td>-999.000000</td>\n",
              "      <td>-0.695759</td>\n",
              "      <td>-15.649703</td>\n",
              "      <td>-11.795717</td>\n",
              "      <td>48.531250</td>\n",
              "      <td>-999.000000</td>\n",
              "      <td>0.325875</td>\n",
              "      <td>0.0</td>\n",
              "      <td>0.0</td>\n",
              "    </tr>\n",
              "    <tr>\n",
              "      <th>50%</th>\n",
              "      <td>-999.000000</td>\n",
              "      <td>-999.000000</td>\n",
              "      <td>-999.000000</td>\n",
              "      <td>0.043042</td>\n",
              "      <td>-13.339729</td>\n",
              "      <td>-5.586372</td>\n",
              "      <td>51.343750</td>\n",
              "      <td>-999.000000</td>\n",
              "      <td>0.509452</td>\n",
              "      <td>0.0</td>\n",
              "      <td>0.0</td>\n",
              "    </tr>\n",
              "    <tr>\n",
              "      <th>75%</th>\n",
              "      <td>-0.882496</td>\n",
              "      <td>-36.155629</td>\n",
              "      <td>-33.666227</td>\n",
              "      <td>0.860406</td>\n",
              "      <td>-6.922527</td>\n",
              "      <td>-0.398044</td>\n",
              "      <td>55.500000</td>\n",
              "      <td>0.120097</td>\n",
              "      <td>0.823406</td>\n",
              "      <td>0.0</td>\n",
              "      <td>0.0</td>\n",
              "    </tr>\n",
              "    <tr>\n",
              "      <th>max</th>\n",
              "      <td>3486.088379</td>\n",
              "      <td>2711.178711</td>\n",
              "      <td>3248.310059</td>\n",
              "      <td>335.591400</td>\n",
              "      <td>11.880309</td>\n",
              "      <td>49.816299</td>\n",
              "      <td>1343.000000</td>\n",
              "      <td>27.793468</td>\n",
              "      <td>23.890995</td>\n",
              "      <td>0.0</td>\n",
              "      <td>0.0</td>\n",
              "    </tr>\n",
              "  </tbody>\n",
              "</table>\n",
              "</div>"
            ],
            "text/plain": [
              "       fTreeVariableNSigmaTOFPion  ...  fTreeVariableisPrimaryTrigger\n",
              "count                32274.000000  ...                        32274.0\n",
              "mean                  -692.733333  ...                            0.0\n",
              "std                    465.263040  ...                            0.0\n",
              "min                   -999.000000  ...                            0.0\n",
              "25%                   -999.000000  ...                            0.0\n",
              "50%                   -999.000000  ...                            0.0\n",
              "75%                     -0.882496  ...                            0.0\n",
              "max                   3486.088379  ...                            0.0\n",
              "\n",
              "[8 rows x 11 columns]"
            ]
          },
          "metadata": {
            "tags": []
          },
          "execution_count": 50
        }
      ]
    },
    {
      "cell_type": "code",
      "metadata": {
        "id": "jjOWSDRj130n",
        "colab_type": "code",
        "colab": {
          "base_uri": "https://localhost:8080/",
          "height": 255
        },
        "outputId": "c51ea930-1fcc-44a4-f29a-5da0b3402fad"
      },
      "source": [
        "PandaPionDF.head()"
      ],
      "execution_count": 51,
      "outputs": [
        {
          "output_type": "execute_result",
          "data": {
            "text/html": [
              "<div>\n",
              "<style scoped>\n",
              "    .dataframe tbody tr th:only-of-type {\n",
              "        vertical-align: middle;\n",
              "    }\n",
              "\n",
              "    .dataframe tbody tr th {\n",
              "        vertical-align: top;\n",
              "    }\n",
              "\n",
              "    .dataframe thead th {\n",
              "        text-align: right;\n",
              "    }\n",
              "</style>\n",
              "<table border=\"1\" class=\"dataframe\">\n",
              "  <thead>\n",
              "    <tr style=\"text-align: right;\">\n",
              "      <th></th>\n",
              "      <th>fTreeVariableNSigmaTOFPion</th>\n",
              "      <th>fTreeVariableNSigmaTOFProton</th>\n",
              "      <th>fTreeVariableNSigmaTOFKaon</th>\n",
              "      <th>fTreeVariableNSigmaTPCPion</th>\n",
              "      <th>fTreeVariableNSigmaTPCProton</th>\n",
              "      <th>fTreeVariableNSigmaTPCKaon</th>\n",
              "      <th>fTreeVariabledEdX</th>\n",
              "      <th>fTreeVariableTOFMass</th>\n",
              "      <th>fTreeVariablePtTrigger</th>\n",
              "      <th>fTreeVariablePDGCodeTrigger</th>\n",
              "      <th>fTreeVariableisPrimaryTrigger</th>\n",
              "    </tr>\n",
              "    <tr>\n",
              "      <th>entry</th>\n",
              "      <th></th>\n",
              "      <th></th>\n",
              "      <th></th>\n",
              "      <th></th>\n",
              "      <th></th>\n",
              "      <th></th>\n",
              "      <th></th>\n",
              "      <th></th>\n",
              "      <th></th>\n",
              "      <th></th>\n",
              "      <th></th>\n",
              "    </tr>\n",
              "  </thead>\n",
              "  <tbody>\n",
              "    <tr>\n",
              "      <th>0</th>\n",
              "      <td>0.918567</td>\n",
              "      <td>-35.513672</td>\n",
              "      <td>-20.527399</td>\n",
              "      <td>0.323678</td>\n",
              "      <td>-11.748958</td>\n",
              "      <td>-2.683780</td>\n",
              "      <td>50.31250</td>\n",
              "      <td>0.169956</td>\n",
              "      <td>0.680152</td>\n",
              "      <td>0</td>\n",
              "      <td>0</td>\n",
              "    </tr>\n",
              "    <tr>\n",
              "      <th>1</th>\n",
              "      <td>-999.000000</td>\n",
              "      <td>-999.000000</td>\n",
              "      <td>-999.000000</td>\n",
              "      <td>-1.153996</td>\n",
              "      <td>-17.027597</td>\n",
              "      <td>-15.634204</td>\n",
              "      <td>57.09375</td>\n",
              "      <td>-999.000000</td>\n",
              "      <td>0.265325</td>\n",
              "      <td>0</td>\n",
              "      <td>0</td>\n",
              "    </tr>\n",
              "    <tr>\n",
              "      <th>2</th>\n",
              "      <td>-999.000000</td>\n",
              "      <td>-999.000000</td>\n",
              "      <td>-999.000000</td>\n",
              "      <td>0.155855</td>\n",
              "      <td>-15.890946</td>\n",
              "      <td>-14.801109</td>\n",
              "      <td>53.15625</td>\n",
              "      <td>-999.000000</td>\n",
              "      <td>0.270509</td>\n",
              "      <td>0</td>\n",
              "      <td>0</td>\n",
              "    </tr>\n",
              "    <tr>\n",
              "      <th>3</th>\n",
              "      <td>1.226982</td>\n",
              "      <td>-31.313883</td>\n",
              "      <td>-32.581455</td>\n",
              "      <td>-0.590945</td>\n",
              "      <td>-16.512909</td>\n",
              "      <td>-8.736343</td>\n",
              "      <td>51.81250</td>\n",
              "      <td>0.150573</td>\n",
              "      <td>0.501138</td>\n",
              "      <td>0</td>\n",
              "      <td>0</td>\n",
              "    </tr>\n",
              "    <tr>\n",
              "      <th>4</th>\n",
              "      <td>-999.000000</td>\n",
              "      <td>-999.000000</td>\n",
              "      <td>-999.000000</td>\n",
              "      <td>1.670261</td>\n",
              "      <td>-14.866197</td>\n",
              "      <td>-14.983491</td>\n",
              "      <td>59.18750</td>\n",
              "      <td>-999.000000</td>\n",
              "      <td>0.243150</td>\n",
              "      <td>0</td>\n",
              "      <td>0</td>\n",
              "    </tr>\n",
              "  </tbody>\n",
              "</table>\n",
              "</div>"
            ],
            "text/plain": [
              "       fTreeVariableNSigmaTOFPion  ...  fTreeVariableisPrimaryTrigger\n",
              "entry                              ...                               \n",
              "0                        0.918567  ...                              0\n",
              "1                     -999.000000  ...                              0\n",
              "2                     -999.000000  ...                              0\n",
              "3                        1.226982  ...                              0\n",
              "4                     -999.000000  ...                              0\n",
              "\n",
              "[5 rows x 11 columns]"
            ]
          },
          "metadata": {
            "tags": []
          },
          "execution_count": 51
        }
      ]
    },
    {
      "cell_type": "code",
      "metadata": {
        "id": "qXtnBWxY2OMg",
        "colab_type": "code",
        "colab": {
          "base_uri": "https://localhost:8080/",
          "height": 303
        },
        "outputId": "0263e981-6242-42c1-99f5-6342ede47cbe"
      },
      "source": [
        "PandaPionDF.plot()"
      ],
      "execution_count": 52,
      "outputs": [
        {
          "output_type": "execute_result",
          "data": {
            "text/plain": [
              "<matplotlib.axes._subplots.AxesSubplot at 0x7fc91fc9cf28>"
            ]
          },
          "metadata": {
            "tags": []
          },
          "execution_count": 52
        },
        {
          "output_type": "display_data",
          "data": {
            "image/png": "[encoded data removed]",
            "text/plain": [
              "<Figure size 432x288 with 1 Axes>"
            ]
          },
          "metadata": {
            "tags": [],
            "needs_background": "light"
          }
        }
      ]
    },
    {
      "cell_type": "code",
      "metadata": {
        "id": "eDIFhLDM2dvC",
        "colab_type": "code",
        "colab": {}
      },
      "source": [
        "PandaPionDF[\"fTreeVariableTOFMass\"].value_counts()"
      ],
      "execution_count": null,
      "outputs": []
    },
    {
      "cell_type": "code",
      "metadata": {
        "id": "9AOZ0nNM9Aie",
        "colab_type": "code",
        "colab": {
          "base_uri": "https://localhost:8080/",
          "height": 51
        },
        "outputId": "6bdf8604-fe38-473a-9675-0bc96de974c1"
      },
      "source": [
        "PandaPionDF[\"fTreeVariablePDGCodeTrigger\"].value_counts()"
      ],
      "execution_count": 53,
      "outputs": [
        {
          "output_type": "execute_result",
          "data": {
            "text/plain": [
              "0    32274\n",
              "Name: fTreeVariablePDGCodeTrigger, dtype: int64"
            ]
          },
          "metadata": {
            "tags": []
          },
          "execution_count": 53
        }
      ]
    },
    {
      "cell_type": "code",
      "metadata": {
        "id": "nKKtJc_u2u1d",
        "colab_type": "code",
        "colab": {}
      },
      "source": [
        "PandaPionDF[\"fTreeVariableNSigmaTOFPion\"].value_counts()"
      ],
      "execution_count": null,
      "outputs": []
    },
    {
      "cell_type": "code",
      "metadata": {
        "id": "_6_cYjzq3Ry1",
        "colab_type": "code",
        "colab": {}
      },
      "source": [
        "PandaPionDF[\"fTreeVariabledEdX\"].hist()"
      ],
      "execution_count": null,
      "outputs": []
    },
    {
      "cell_type": "code",
      "metadata": {
        "id": "KE0Rw3HS3B2_",
        "colab_type": "code",
        "colab": {}
      },
      "source": [
        "%matplotlib inline\n",
        "import matplotlib.pyplot as plt\n",
        "PandaPionDF.hist(bins=100, figsize=(15,15))\n",
        "save_fig(\"/content/gdrive/My Drive/FinalExamML/attributes_histogram_plots\")\n",
        "plt.show()"
      ],
      "execution_count": null,
      "outputs": []
    },
    {
      "cell_type": "code",
      "metadata": {
        "id": "LMPJwgR38OTt",
        "colab_type": "code",
        "colab": {
          "base_uri": "https://localhost:8080/",
          "height": 307
        },
        "outputId": "c9df53ba-cff2-485b-cf5c-b759f4c97b10"
      },
      "source": [
        "PandaPionDF.plot(kind=\"scatter\", x=\"fTreeVariablePtTrigger\", y=\"fTreeVariabledEdX\", alpha=0.1)"
      ],
      "execution_count": 47,
      "outputs": [
        {
          "output_type": "execute_result",
          "data": {
            "text/plain": [
              "<matplotlib.axes._subplots.AxesSubplot at 0x7fc923af9da0>"
            ]
          },
          "metadata": {
            "tags": []
          },
          "execution_count": 47
        },
        {
          "output_type": "display_data",
          "data": {
            "image/png": "[encoded data removed]",
            "text/plain": [
              "<Figure size 432x288 with 1 Axes>"
            ]
          },
          "metadata": {
            "tags": [],
            "needs_background": "light"
          }
        }
      ]
    },
    {
      "cell_type": "markdown",
      "metadata": {
        "id": "YFNnYwvm8OGH",
        "colab_type": "text"
      },
      "source": [
        ""
      ]
    },
    {
      "cell_type": "code",
      "metadata": {
        "id": "N9ZF6D283lLF",
        "colab_type": "code",
        "colab": {
          "base_uri": "https://localhost:8080/",
          "height": 475
        },
        "outputId": "a93796ec-d56e-4455-bfe0-7686c24be677"
      },
      "source": [
        "PandaPionDF.plot(kind=\"scatter\", x=\"fTreeVariablePtTrigger\", y=\"fTreeVariabledEdX\", alpha=0.4,\n",
        "    s=PandaPionDF[\"fTreeVariableNSigmaTPCPion\"], label=\"Stopping power\", figsize=(10,7),\n",
        "    c=\"fTreeVariablePDGCodeTrigger\", cmap=plt.get_cmap(\"jet\"), colorbar=True)\n",
        "plt.legend()\n",
        "#save_fig(\"/content/gdrive/My Drive/Hands-on/housing_prices_scatterplot\")"
      ],
      "execution_count": 55,
      "outputs": [
        {
          "output_type": "stream",
          "text": [
            "/usr/local/lib/python3.6/dist-packages/matplotlib/collections.py:885: RuntimeWarning: invalid value encountered in sqrt\n",
            "  scale = np.sqrt(self._sizes) * dpi / 72.0 * self._factor\n"
          ],
          "name": "stderr"
        },
        {
          "output_type": "execute_result",
          "data": {
            "text/plain": [
              "<matplotlib.legend.Legend at 0x7fc9200a8470>"
            ]
          },
          "metadata": {
            "tags": []
          },
          "execution_count": 55
        },
        {
          "output_type": "display_data",
          "data": {
            "image/png": "[encoded data removed]",
            "text/plain": [
              "<Figure size 720x504 with 2 Axes>"
            ]
          },
          "metadata": {
            "tags": [],
            "needs_background": "light"
          }
        }
      ]
    },
    {
      "cell_type": "code",
      "metadata": {
        "id": "gUW_nInq9PZU",
        "colab_type": "code",
        "colab": {}
      },
      "source": [
        ""
      ],
      "execution_count": null,
      "outputs": []
    }
  ]
}